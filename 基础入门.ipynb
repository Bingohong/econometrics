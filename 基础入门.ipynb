{
 "cells": [
  {
   "cell_type": "markdown",
   "metadata": {},
   "source": [
    "# 基础入门"
   ]
  },
  {
   "cell_type": "markdown",
   "metadata": {},
   "source": [
    "## 希腊字母读音"
   ]
  },
  {
   "cell_type": "markdown",
   "metadata": {},
   "source": [
    "| 序号 | 大写 | 小写  | 英语音标注音                     | 英文      | 汉语名称      | 常用指代意义                            |\n",
    "|:---:|:---:|:---:|:--------------------------:|:-------:|:---------:|:---------------------------------:|\n",
    "| 1  | Α  | α   | /'ælfə/                    | alpha   | 阿尔法       | 角度、系数、角加速度、第一个、电离度、转化率            |\n",
    "| 2  | Β  | β   | /'bi:tə/ 或 /'beɪtə/        | beta    | 贝塔        | 磁通系数、角度、系数                        |\n",
    "| 3  | Γ  | γ   | /'gæmə/                    | gamma   | 伽玛        | 电导系数、角度、比热容比                      |\n",
    "| 4  | Δ  | δ   | /'deltə/                   | delta   | 得尔塔       | 变化量、焓变、熵变、屈光度、一元二次方程中的判别式、化学位移    |\n",
    "| 5  | Ε  | ε   | /'epsɪlɒn/                 | epsilon | 艾普西隆      | 对数之基数、介电常数、电容率、应变                 |\n",
    "| 6  | Ζ  | ζ   | /'zi:tə/                   | zeta    | 泽塔        | 系数、方位角、阻抗、相对黏度                    |\n",
    "| 7  | Η  | η   | /'i:tə/                    | eta     | 伊塔        | 迟滞系数、机械效率                         |\n",
    "| 8  | Θ  | θ   | /'θi:tə/                   | theta   | 西塔        | 温度、角度                             |\n",
    "| 9  | Ι  | ι   | /aɪ’əʊtə/                  | iota    | 约\\(yāo\\)塔 | 微小、一点                             |\n",
    "| 10 | Κ  | κ   | /'kæpə/                    | kappa   | 卡帕        | 介质常数、绝热指数                         |\n",
    "| 11 | ∧  | λ   | /'læmdə/                   | lambda  | 拉姆达       | 波长、体积、导热系数 普朗克常数                  |\n",
    "| 12 | Μ  | μ   | /mju:/                     | mu      | 谬         | 磁导率、微、动摩擦系（因）数、流体动力黏度、货币单位,莫比乌斯函数 |\n",
    "| 13 | Ν  | ν   | /nju:/                     | nu      | 纽         | 磁阻系数、流体运动粘度、光波频率、化学计量数            |\n",
    "| 14 | Ξ  | ξ   | 希腊 /ksi/英美 /ˈzaɪ/ 或 /ˈsaɪ/ | xi      | 克西        | 随机变量、（小）区间内的一个未知特定值               |\n",
    "| 15 | Ο  | ο   | /əuˈmaikrən/或 /ˈɑmɪˌkrɑn/  | omicron | 奥米克戎      | 高阶无穷小函数                           |\n",
    "| 16 | ∏  | π   | /paɪ/                      | pi      | 派         | 圆周率、π\\(n\\)表示不大于n的质数个数、连乘          |\n",
    "| 17 | Ρ  | ρ   | /rəʊ/                      | rho     | 柔         | 电阻率、柱坐标和极坐标中的极径、密度、曲率半径           |\n",
    "| 18 | ∑  | σ,ς | /'sɪɡmə/                   | sigma   | 西格马       | 总和、表面密度、跨导、应力、电导率                 |\n",
    "| 19 | Τ  | τ   | /tɔ:/ 或 /taʊ/              | tau     | 陶         | 时间常数、切应力、2π（两倍圆周率）                |\n",
    "| 20 | Υ  | υ   | /ˈipsɪlon/或 /ˈʌpsɪlɒn/     | upsilon | 阿普西龙      | 位移                                |\n",
    "| 21 | Φ  | φ   | /faɪ/                      | phi     | 斐         | 磁通量、电通量、角、透镜焦度、热流量、电势、直径、欧拉函数、空集  |\n",
    "| 22 | Χ  | χ   | /kaɪ/                      | chi     | 希         | 统计学中有卡方\\(χ^2\\)分布                  |\n",
    "| 23 | Ψ  | ψ   | /ps/                       | psi     | 普西        | 角速、介质电通量、ψ函数、磁链                   |\n",
    "| 24 | Ω  | ω   | /'əʊmɪɡə/或 /oʊ’meɡə/       | omega   | 奥米伽/欧米伽   | 欧姆、角速度、角频率、交流电的电角度、化学中的质量分数、不饱和度  |\n"
   ]
  },
  {
   "cell_type": "markdown",
   "metadata": {},
   "source": [
    "## python基础"
   ]
  },
  {
   "cell_type": "markdown",
   "metadata": {},
   "source": [
    "* [Python官方中文文档](https://docs.python.org/zh-cn/3/) ❤️❤️❤️\n",
    "\n",
    "* [菜鸟教程](https://www.runoob.com/python3/python3-basic-syntax.html) ❤️❤️\n",
    "\n",
    "* [廖雪峰教程](https://www.liaoxuefeng.com/wiki/1016959663602400) ❤️\n",
    "* [白月黑羽教 python](http://www.python3.vip/tut/py/basic/01/) ❤️❤️"
   ]
  },
  {
   "cell_type": "markdown",
   "metadata": {},
   "source": [
    "## Pandas"
   ]
  },
  {
   "cell_type": "markdown",
   "metadata": {},
   "source": [
    "* [Github 的 joyful-pandas 项目](https://github.com/datawhalechina/joyful-pandas)\n",
    "\n",
    "* [Pandas 中文文档](https://www.pypandas.cn/docs/)"
   ]
  },
  {
   "cell_type": "markdown",
   "metadata": {},
   "source": [
    "## Numpy"
   ]
  },
  {
   "cell_type": "markdown",
   "metadata": {},
   "source": [
    "中文文档：https://www.numpy.org.cn/"
   ]
  },
  {
   "cell_type": "markdown",
   "metadata": {},
   "source": [
    "## Statsmodels"
   ]
  },
  {
   "cell_type": "markdown",
   "metadata": {},
   "source": [
    "官方文档：https://www.statsmodels.org/stable/index.html"
   ]
  },
  {
   "cell_type": "markdown",
   "metadata": {},
   "source": [
    "## Scipy"
   ]
  },
  {
   "cell_type": "markdown",
   "metadata": {},
   "source": [
    "官方文档：https://www.scipy.org/index.html"
   ]
  }
 ],
 "metadata": {
  "kernelspec": {
   "display_name": "Python 3",
   "language": "python",
   "name": "python3"
  },
  "language_info": {
   "codemirror_mode": {
    "name": "ipython",
    "version": 3
   },
   "file_extension": ".py",
   "mimetype": "text/x-python",
   "name": "python",
   "nbconvert_exporter": "python",
   "pygments_lexer": "ipython3",
   "version": "3.7.7"
  }
 },
 "nbformat": 4,
 "nbformat_minor": 4
}
