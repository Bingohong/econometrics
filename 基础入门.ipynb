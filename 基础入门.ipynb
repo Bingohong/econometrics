{
 "cells": [
  {
   "cell_type": "markdown",
   "metadata": {},
   "source": [
    "# 基础入门\n",
    "\n",
    "主要包括：\n",
    "\n",
    "* **希腊字母读音**\n",
    "\n",
    "* **计量经济学绪论**\n",
    "\n",
    "* **概率统计回顾**\n",
    "\n",
    "* **python 学习**\n",
    "\n",
    "* **matlab 学习**"
   ]
  },
  {
   "cell_type": "markdown",
   "metadata": {},
   "source": [
    "## 希腊字母读音"
   ]
  },
  {
   "cell_type": "markdown",
   "metadata": {},
   "source": [
    "| 序号 | 大写 | 小写  | 英语音标注音                     | 英文      | 汉语名称      | 常用指代意义                            |\n",
    "|:---:|:---:|:---:|:--------------------------:|:-------:|:---------:|:---------------------------------:|\n",
    "| 1  | Α  | α   | /'ælfə/                    | alpha   | 阿尔法       | 角度、系数、角加速度、第一个、电离度、转化率            |\n",
    "| 2  | Β  | β   | /'bi:tə/ 或 /'beɪtə/        | beta    | 贝塔        | 磁通系数、角度、系数                        |\n",
    "| 3  | Γ  | γ   | /'gæmə/                    | gamma   | 伽玛        | 电导系数、角度、比热容比                      |\n",
    "| 4  | Δ  | δ   | /'deltə/                   | delta   | 得尔塔       | 变化量、焓变、熵变、屈光度、一元二次方程中的判别式、化学位移    |\n",
    "| 5  | Ε  | ε   | /'epsɪlɒn/                 | epsilon | 艾普西隆      | 对数之基数、介电常数、电容率、应变                 |\n",
    "| 6  | Ζ  | ζ   | /'zi:tə/                   | zeta    | 泽塔        | 系数、方位角、阻抗、相对黏度                    |\n",
    "| 7  | Η  | η   | /'i:tə/                    | eta     | 伊塔        | 迟滞系数、机械效率                         |\n",
    "| 8  | Θ  | θ   | /'θi:tə/                   | theta   | 西塔        | 温度、角度                             |\n",
    "| 9  | Ι  | ι   | /aɪ’əʊtə/                  | iota    | 约\\(yāo\\)塔 | 微小、一点                             |\n",
    "| 10 | Κ  | κ   | /'kæpə/                    | kappa   | 卡帕        | 介质常数、绝热指数                         |\n",
    "| 11 | ∧  | λ   | /'læmdə/                   | lambda  | 拉姆达       | 波长、体积、导热系数 普朗克常数                  |\n",
    "| 12 | Μ  | μ   | /mju:/                     | mu      | 谬         | 磁导率、微、动摩擦系（因）数、流体动力黏度、货币单位,莫比乌斯函数 |\n",
    "| 13 | Ν  | ν   | /nju:/                     | nu      | 纽         | 磁阻系数、流体运动粘度、光波频率、化学计量数            |\n",
    "| 14 | Ξ  | ξ   | 希腊 /ksi/英美 /ˈzaɪ/ 或 /ˈsaɪ/ | xi      | 克西        | 随机变量、（小）区间内的一个未知特定值               |\n",
    "| 15 | Ο  | ο   | /əuˈmaikrən/或 /ˈɑmɪˌkrɑn/  | omicron | 奥米克戎      | 高阶无穷小函数                           |\n",
    "| 16 | ∏  | π   | /paɪ/                      | pi      | 派         | 圆周率、π\\(n\\)表示不大于n的质数个数、连乘          |\n",
    "| 17 | Ρ  | ρ   | /rəʊ/                      | rho     | 柔         | 电阻率、柱坐标和极坐标中的极径、密度、曲率半径           |\n",
    "| 18 | ∑  | σ,ς | /'sɪɡmə/                   | sigma   | 西格马       | 总和、表面密度、跨导、应力、电导率                 |\n",
    "| 19 | Τ  | τ   | /tɔ:/ 或 /taʊ/              | tau     | 陶         | 时间常数、切应力、2π（两倍圆周率）                |\n",
    "| 20 | Υ  | υ   | /ˈipsɪlon/或 /ˈʌpsɪlɒn/     | upsilon | 阿普西龙      | 位移                                |\n",
    "| 21 | Φ  | φ   | /faɪ/                      | phi     | 斐         | 磁通量、电通量、角、透镜焦度、热流量、电势、直径、欧拉函数、空集  |\n",
    "| 22 | Χ  | χ   | /kaɪ/                      | chi     | 希         | 统计学中有卡方\\(χ^2\\)分布                  |\n",
    "| 23 | Ψ  | ψ   | /ps/                       | psi     | 普西        | 角速、介质电通量、ψ函数、磁链                   |\n",
    "| 24 | Ω  | ω   | /'əʊmɪɡə/或 /oʊ’meɡə/       | omega   | 奥米伽/欧米伽   | 欧姆、角速度、角频率、交流电的电角度、化学中的质量分数、不饱和度  |\n"
   ]
  },
  {
   "cell_type": "markdown",
   "metadata": {},
   "source": [
    "## 计量经济学绪论"
   ]
  },
  {
   "cell_type": "markdown",
   "metadata": {},
   "source": [
    "### 什么是计量经济学\n",
    "顾名思义，“计量经济学”（ Econometrics，也译为“经济计量学“）就是运用概率统计的方法对经济变量之间的（因果）关系进行定量分析的科学。之所以把“因果”两个字加括号，是因为计量经济学常常不足以确定经济变量之间的因果关系（由于实验数据的缺乏），另一方面，大多数实证分析的目的恰恰正是要确定变量之间的因果关系（即是否 X 导致 Y），而非仅仅是相关关系。因此，在学习与应用计量经济学的过程中，很有必要时时以“因果关系”作为思考的框架与指引。\n",
    "\n",
    "比如，你看到街上人们带伞，于是预测今天要下雨。这是一种相关关系。然而，“人们带伞”并不是造成“下雨”的原因。因此，计量分析必须建立在经济理论的基础之上。"
   ]
  },
  {
   "cell_type": "markdown",
   "metadata": {},
   "source": [
    "### 经济数据的特点与类型\n",
    "由于在经济学中通常无法像自然科学那样做控制实验（ controlled experiment），故经济数据一般不是实验数据（ experimental data），而是自然发生的观测数据（ observational data）。由于个人行为的随机性，所有经济变量原则上都是随机变量。\n",
    "\n",
    "在计量经济学的本科课程中，为了简单起见，有时假设解释变量是非随机的、固定的（fixed regressors）。这只是为了教学法上的方便，却给更深入的理论探讨带来了不便。比如，如果解释变量为非随机，则无法考虑其与扰动项的相关性。因此，在这本研究生水平的教材中，所有变量都是随机的（即便非随机的常数，也可以视为退化的随机变量）。"
   ]
  },
  {
   "cell_type": "markdown",
   "metadata": {},
   "source": [
    "## 概率统计回顾"
   ]
  },
  {
   "cell_type": "markdown",
   "metadata": {},
   "source": [
    "该内容可以查阅本科数学教材，这里不再详述\n",
    "\n",
    "* 概率与条件概率\n",
    "* 分布与条件分布\n",
    "* 随机变量的数字特征\n",
    "* 迭代期望定律\n",
    "* 随机变量无关的三个层次概念\n",
    "* 常用连续型统计分布\n",
    "* 统计推断的思想"
   ]
  },
  {
   "cell_type": "markdown",
   "metadata": {},
   "source": [
    "## python 学习\n",
    "### python基础\n",
    "* [Python官方中文文档](https://docs.python.org/zh-cn/3/) ❤️❤️❤️\n",
    "\n",
    "* [菜鸟教程](https://www.runoob.com/python3/python3-basic-syntax.html) ❤️❤️\n",
    "\n",
    "* [廖雪峰教程](https://www.liaoxuefeng.com/wiki/1016959663602400) ❤️\n",
    "* [白月黑羽教 python](http://www.python3.vip/tut/py/basic/01/) ❤️❤️"
   ]
  },
  {
   "cell_type": "markdown",
   "metadata": {},
   "source": [
    "### Pandas\n",
    "* [Github 的 joyful-pandas 项目](https://github.com/datawhalechina/joyful-pandas)\n",
    "\n",
    "* [Pandas 中文文档](https://www.pypandas.cn/docs/)"
   ]
  },
  {
   "cell_type": "markdown",
   "metadata": {},
   "source": [
    "### Numpy\n",
    "中文文档：https://www.numpy.org.cn/"
   ]
  },
  {
   "cell_type": "markdown",
   "metadata": {},
   "source": [
    "### Matplotlib\n",
    "中文文档：https://www.matplotlib.org.cn/"
   ]
  },
  {
   "cell_type": "markdown",
   "metadata": {},
   "source": [
    "### Statsmodels\n",
    "官方文档：https://www.statsmodels.org/stable/index.html"
   ]
  },
  {
   "cell_type": "markdown",
   "metadata": {},
   "source": [
    "### Scipy\n",
    "官方文档：https://www.scipy.org/index.html"
   ]
  },
  {
   "cell_type": "markdown",
   "metadata": {},
   "source": [
    "## matlab 学习\n",
    "### matlab 安装\n",
    "参考公众号：[MATLAB R2020a软件安装教程](https://mp.weixin.qq.com/s/hpcd50mGAETwQrGj06RGHw)"
   ]
  },
  {
   "cell_type": "markdown",
   "metadata": {},
   "source": [
    "### 入门基础\n",
    "#### 由来\n",
    "MATLAB 源于 Matrix Laboratory 一词，原为矩阵实验室的意思。它的最初版本是一种专门用于矩阵数值计算的软件。随着 MATLAB 的逐步市场化，其功能也越来越强大，是一门集数值计算、符号运算和图形处理等多种功能于一体的科学计算软件包。它还包含许多专用工具箱，可以满足不同专业用户的需求。如科学计算、动态仿真、系统控制、数据采集、模糊逻辑、金融财政、图形处理、信号处理、数据统计和器材控制等。\n",
    "\n",
    "#### 界面介绍\n",
    "<div align=center><img src=\"https://gitee.com/lei940324/picture/raw/master/img/2020/0530/232015.png\" width=\"750\" ></div>\n",
    "\n",
    "<div align=center><img src=\"https://gitee.com/lei940324/picture/raw/master/img/2020/0530/232110.png\" width=\"196\" ></div>\n",
    "\n",
    "#### 基础概念\n",
    "* **% 代表注释**  \n",
    "```matlab\n",
    "% 1.读取数据\n",
    "............. \n",
    "% 2.处理数据\n",
    ".............\n",
    "% 3.模型估计\n",
    ".............\n",
    "```\n",
    "* **= 代表赋值**\n",
    "```matlab\n",
    "a = 1;\n",
    "a = -a;\n",
    "```\n",
    "* **== 比较是否相等**\n",
    "* **; 代表不显示或者多个命令写在一行**\n",
    "```\n",
    "a = 1 b = 2    %报错\n",
    "a = 1; b = 2;\n",
    "```\n",
    "* **: 表示从某值到某值**\n",
    "```\n",
    "a=1:5;\n",
    "b=1:2:10;\n",
    "```\n",
    "* **`[ ]` 代表矩阵，矩阵内分号表示换行，逗号表示分隔元素**\n",
    "```\n",
    "a=[1,2;3,4];\n",
    "b=a(2,2);\n",
    "```\n",
    "* **' 代表转置**\n",
    "\n",
    "* **布尔值**\n",
    "\t* 真(非零数,常为1)\n",
    "\t* 假(0)\n",
    "\t\n",
    "* **字符串**\n",
    "\n",
    "  单引号或者双引号引起的内容\n",
    "\n",
    "* **变量类型**\n",
    "\n",
    "  * 字符串(char)\n",
    "    ```\n",
    "    a = {}\n",
    "    a{1} = 'time'\n",
    "    a{2} = '2019 - 10'\n",
    "    ```\n",
    "\n",
    "  * 双浮点数(double)"
   ]
  },
  {
   "cell_type": "markdown",
   "metadata": {},
   "source": [
    "#### 常见问题与注意事项\n",
    "* 严格区分大小写\n",
    "\n",
    "* 所有标点符号都要是英文状态输入，否则出现 bug 很难发现\n",
    "\n",
    "* 重在对模型的掌握,matlab 只是工具,python、R、stata、eviews 都类似\n",
    "\n",
    "* 快捷键\n",
    "\n",
    "  * ctrl+c 键可以强制停止运行的程序\n",
    "  * shift+enter 可以快速改变所有相同变量名\n",
    "  * ctrl+z 可以快速撤销上次操作\n",
    "  * ctrl+shift+z 回到下次操作\n",
    "\n",
    "* 设置路径\n",
    "\n",
    "  菜单栏点击 **设置路径** 进行文件夹添加\n",
    "\n",
    "* 向量对应位置乘积要用点乘\n",
    "\n",
    "  ```\n",
    "  a=[1,2];\n",
    "  b=[2,3];\n",
    "  c=a*b;    %报错 \n",
    "  c=a.*b;\n",
    "  ```\n",
    "\n",
    "* 要转变观念,要从喜欢点点点,过渡到输入命令,输命令的好处在于编写一次,就不需要重复工作了\n",
    "\n",
    "* 变量名命名要合理,不能为中文，尽量不要用拼音,要简单易懂,不要和现有的函数名重复,否则会造成难以察觉的错误\n",
    "\n",
    "  两种命名方式:\n",
    "\n",
    "  第一种: StudentName (驼峰命名法)\n",
    "\n",
    "  第二种: student_name\n",
    "\n",
    "  不要是 xuesheng, SN, sum\n",
    "\n",
    "* 注意缩进,保证代码有较好的阅读感受\n",
    "\n",
    "* 代码不要冗余,使用两次及以上,需要函数封装\n",
    "\n",
    "* 不要怕报错,认真看报错信息,实在看不懂百度"
   ]
  },
  {
   "cell_type": "markdown",
   "metadata": {},
   "source": [
    "#### 常用命令\n",
    "* clc 与 clean：两者常常结合使用，其中 clc 代表清屏，clear 代表清空工作区\n",
    "\n",
    "* help：帮助命令\n",
    "\n",
    "  ```\n",
    "  help('clc')\n",
    "  help('dir')\n",
    "  help clc\n",
    "  help dir\n",
    "  ```\n",
    "\n",
    "* xlsread：读取 excel 文件数据\n",
    "\n",
    "  ```\n",
    "  data=xlsread('C:\\Users\\Administrator\\Desktop\\hourse.xlsx')\n",
    "  ```\n",
    "\n",
    "  这里有个常见问题：excel 日期格式的数据无法加载进 matlab，需要将日期转化为文本\n",
    "\n",
    "* xlswrite：将 matlab 工作区数据写入 excel\n",
    "\n",
    "  ```\n",
    "  xlswrite('C:\\Users\\Administrator\\Desktop\\qwalds1.xlsx', walds)\n",
    "  ```\n",
    "\n",
    "* x2mdate：将excel日期数据转化为matlab日期\n",
    "\n",
    "  ```\n",
    "  mldate  = x2mdate(data(:,1)); % 导入日期\n",
    "  ```\n",
    "\n",
    "* input：输入\n",
    "\n",
    "* disp：打印\n",
    "\n",
    "  ```\n",
    "  disp(['第' num2str(i) '个已完成，共' num2str(T-1) '个'])\n",
    "  ```"
   ]
  },
  {
   "cell_type": "code",
   "execution_count": null,
   "metadata": {},
   "outputs": [],
   "source": []
  }
 ],
 "metadata": {
  "kernelspec": {
   "display_name": "Python 3",
   "language": "python",
   "name": "python3"
  },
  "language_info": {
   "codemirror_mode": {
    "name": "ipython",
    "version": 3
   },
   "file_extension": ".py",
   "mimetype": "text/x-python",
   "name": "python",
   "nbconvert_exporter": "python",
   "pygments_lexer": "ipython3",
   "version": "3.7.7"
  }
 },
 "nbformat": 4,
 "nbformat_minor": 4
}
