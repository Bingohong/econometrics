{
 "cells": [
  {
   "cell_type": "markdown",
   "metadata": {},
   "source": [
    "# 基础入门\n",
    "\n",
    "主要包括：\n",
    "\n",
    "* **希腊字母读音**\n",
    "\n",
    "* **python 入门**\n",
    "\n",
    "* **计量经济学绪论**\n",
    "* **概率统计回顾**"
   ]
  },
  {
   "cell_type": "markdown",
   "metadata": {},
   "source": [
    "## 希腊字母读音"
   ]
  },
  {
   "cell_type": "markdown",
   "metadata": {},
   "source": [
    "| 序号 | 大写 | 小写  | 英语音标注音                     | 英文      | 汉语名称      | 常用指代意义                            |\n",
    "|:---:|:---:|:---:|:--------------------------:|:-------:|:---------:|:---------------------------------:|\n",
    "| 1  | Α  | α   | /'ælfə/                    | alpha   | 阿尔法       | 角度、系数、角加速度、第一个、电离度、转化率            |\n",
    "| 2  | Β  | β   | /'bi:tə/ 或 /'beɪtə/        | beta    | 贝塔        | 磁通系数、角度、系数                        |\n",
    "| 3  | Γ  | γ   | /'gæmə/                    | gamma   | 伽玛        | 电导系数、角度、比热容比                      |\n",
    "| 4  | Δ  | δ   | /'deltə/                   | delta   | 得尔塔       | 变化量、焓变、熵变、屈光度、一元二次方程中的判别式、化学位移    |\n",
    "| 5  | Ε  | ε   | /'epsɪlɒn/                 | epsilon | 艾普西隆      | 对数之基数、介电常数、电容率、应变                 |\n",
    "| 6  | Ζ  | ζ   | /'zi:tə/                   | zeta    | 泽塔        | 系数、方位角、阻抗、相对黏度                    |\n",
    "| 7  | Η  | η   | /'i:tə/                    | eta     | 伊塔        | 迟滞系数、机械效率                         |\n",
    "| 8  | Θ  | θ   | /'θi:tə/                   | theta   | 西塔        | 温度、角度                             |\n",
    "| 9  | Ι  | ι   | /aɪ’əʊtə/                  | iota    | 约\\(yāo\\)塔 | 微小、一点                             |\n",
    "| 10 | Κ  | κ   | /'kæpə/                    | kappa   | 卡帕        | 介质常数、绝热指数                         |\n",
    "| 11 | ∧  | λ   | /'læmdə/                   | lambda  | 拉姆达       | 波长、体积、导热系数 普朗克常数                  |\n",
    "| 12 | Μ  | μ   | /mju:/                     | mu      | 谬         | 磁导率、微、动摩擦系（因）数、流体动力黏度、货币单位,莫比乌斯函数 |\n",
    "| 13 | Ν  | ν   | /nju:/                     | nu      | 纽         | 磁阻系数、流体运动粘度、光波频率、化学计量数            |\n",
    "| 14 | Ξ  | ξ   | 希腊 /ksi/英美 /ˈzaɪ/ 或 /ˈsaɪ/ | xi      | 克西        | 随机变量、（小）区间内的一个未知特定值               |\n",
    "| 15 | Ο  | ο   | /əuˈmaikrən/或 /ˈɑmɪˌkrɑn/  | omicron | 奥米克戎      | 高阶无穷小函数                           |\n",
    "| 16 | ∏  | π   | /paɪ/                      | pi      | 派         | 圆周率、π\\(n\\)表示不大于n的质数个数、连乘          |\n",
    "| 17 | Ρ  | ρ   | /rəʊ/                      | rho     | 柔         | 电阻率、柱坐标和极坐标中的极径、密度、曲率半径           |\n",
    "| 18 | ∑  | σ,ς | /'sɪɡmə/                   | sigma   | 西格马       | 总和、表面密度、跨导、应力、电导率                 |\n",
    "| 19 | Τ  | τ   | /tɔ:/ 或 /taʊ/              | tau     | 陶         | 时间常数、切应力、2π（两倍圆周率）                |\n",
    "| 20 | Υ  | υ   | /ˈipsɪlon/或 /ˈʌpsɪlɒn/     | upsilon | 阿普西龙      | 位移                                |\n",
    "| 21 | Φ  | φ   | /faɪ/                      | phi     | 斐         | 磁通量、电通量、角、透镜焦度、热流量、电势、直径、欧拉函数、空集  |\n",
    "| 22 | Χ  | χ   | /kaɪ/                      | chi     | 希         | 统计学中有卡方\\(χ^2\\)分布                  |\n",
    "| 23 | Ψ  | ψ   | /ps/                       | psi     | 普西        | 角速、介质电通量、ψ函数、磁链                   |\n",
    "| 24 | Ω  | ω   | /'əʊmɪɡə/或 /oʊ’meɡə/       | omega   | 奥米伽/欧米伽   | 欧姆、角速度、角频率、交流电的电角度、化学中的质量分数、不饱和度  |\n"
   ]
  },
  {
   "cell_type": "markdown",
   "metadata": {},
   "source": [
    "## python 入门\n",
    "### python基础\n",
    "* [Python官方中文文档](https://docs.python.org/zh-cn/3/) ❤️❤️❤️\n",
    "\n",
    "* [菜鸟教程](https://www.runoob.com/python3/python3-basic-syntax.html) ❤️❤️\n",
    "\n",
    "* [廖雪峰教程](https://www.liaoxuefeng.com/wiki/1016959663602400) ❤️\n",
    "* [白月黑羽教 python](http://www.python3.vip/tut/py/basic/01/) ❤️❤️"
   ]
  },
  {
   "cell_type": "markdown",
   "metadata": {},
   "source": [
    "### Pandas\n",
    "* [Github 的 joyful-pandas 项目](https://github.com/datawhalechina/joyful-pandas)\n",
    "\n",
    "* [Pandas 中文文档](https://www.pypandas.cn/docs/)"
   ]
  },
  {
   "cell_type": "markdown",
   "metadata": {},
   "source": [
    "### Numpy\n",
    "中文文档：https://www.numpy.org.cn/"
   ]
  },
  {
   "cell_type": "markdown",
   "metadata": {},
   "source": [
    "### Matplotlib\n",
    "中文文档：https://www.matplotlib.org.cn/"
   ]
  },
  {
   "cell_type": "markdown",
   "metadata": {},
   "source": [
    "### Statsmodels\n",
    "官方文档：https://www.statsmodels.org/stable/index.html"
   ]
  },
  {
   "cell_type": "markdown",
   "metadata": {},
   "source": [
    "### Scipy\n",
    "官方文档：https://www.scipy.org/index.html"
   ]
  },
  {
   "cell_type": "markdown",
   "metadata": {},
   "source": [
    "## 计量经济学绪论"
   ]
  },
  {
   "cell_type": "markdown",
   "metadata": {},
   "source": [
    "### 什么是计量经济学\n",
    "顾名思义，“计量经济学”（ Econometrics，也译为“经济计量学“）就是运用概率统计的方法对经济变量之间的（因果）关系进行定量分析的科学。之所以把“因果”两个字加括号，是因为计量经济学常常不足以确定经济变量之间的因果关系（由于实验数据的缺乏），另一方面，大多数实证分析的目的恰恰正是要确定变量之间的因果关系（即是否 X 导致 Y），而非仅仅是相关关系。因此，在学习与应用计量经济学的过程中，很有必要时时以“因果关系”作为思考的框架与指引。\n",
    "\n",
    "比如，你看到街上人们带伞，于是预测今天要下雨。这是一种相关关系。然而，“人们带伞”并不是造成“下雨”的原因。因此，计量分析必须建立在经济理论的基础之上。"
   ]
  },
  {
   "cell_type": "markdown",
   "metadata": {},
   "source": [
    "### 经济数据的特点与类型\n",
    "由于在经济学中通常无法像自然科学那样做控制实验（ controlled experiment），故经济数据一般不是实验数据（ experimental data），而是自然发生的观测数据（ observational data）。由于个人行为的随机性，所有经济变量原则上都是随机变量。\n",
    "\n",
    "在计量经济学的本科课程中，为了简单起见，有时假设解释变量是非随机的、固定的（fixed regressors）。这只是为了教学法上的方便，却给更深入的理论探讨带来了不便。比如，如果解释变量为非随机，则无法考虑其与扰动项的相关性。因此，在这本研究生水平的教材中，所有变量都是随机的（即便非随机的常数，也可以视为退化的随机变量）。"
   ]
  },
  {
   "cell_type": "markdown",
   "metadata": {},
   "source": [
    "## 概率统计回顾"
   ]
  },
  {
   "cell_type": "markdown",
   "metadata": {},
   "source": [
    "该内容可以查阅本科数学教材，这里不再详述\n",
    "\n",
    "* 概率与条件概率\n",
    "* 分布与条件分布\n",
    "* 随机变量的数字特征\n",
    "* 迭代期望定律\n",
    "* 随机变量无关的三个层次概念\n",
    "* 常用连续型统计分布\n",
    "* 统计推断的思想"
   ]
  }
 ],
 "metadata": {
  "kernelspec": {
   "display_name": "Python 3",
   "language": "python",
   "name": "python3"
  },
  "language_info": {
   "codemirror_mode": {
    "name": "ipython",
    "version": 3
   },
   "file_extension": ".py",
   "mimetype": "text/x-python",
   "name": "python",
   "nbconvert_exporter": "python",
   "pygments_lexer": "ipython3",
   "version": "3.7.7"
  }
 },
 "nbformat": 4,
 "nbformat_minor": 4
}
