{
 "cells": [
  {
   "cell_type": "markdown",
   "metadata": {},
   "source": [
    "# 古典线性回归\n",
    "\"最小二乘法\"（ Ordinary Least Square，记 OLS）是单一方程线性回归模型最常见、最基本的估计方法。"
   ]
  },
  {
   "cell_type": "markdown",
   "metadata": {},
   "source": [
    "## 样本数据\n",
    "### 导入数据"
   ]
  },
  {
   "cell_type": "code",
   "execution_count": 1,
   "metadata": {},
   "outputs": [
    {
     "data": {
      "text/html": [
       "<div>\n",
       "<style scoped>\n",
       "    .dataframe tbody tr th:only-of-type {\n",
       "        vertical-align: middle;\n",
       "    }\n",
       "\n",
       "    .dataframe tbody tr th {\n",
       "        vertical-align: top;\n",
       "    }\n",
       "\n",
       "    .dataframe thead th {\n",
       "        text-align: right;\n",
       "    }\n",
       "</style>\n",
       "<table border=\"1\" class=\"dataframe\">\n",
       "  <thead>\n",
       "    <tr style=\"text-align: right;\">\n",
       "      <th></th>\n",
       "      <th>日期</th>\n",
       "      <th>hs300</th>\n",
       "      <th>sz</th>\n",
       "    </tr>\n",
       "  </thead>\n",
       "  <tbody>\n",
       "    <tr>\n",
       "      <th>0</th>\n",
       "      <td>2018-01-02</td>\n",
       "      <td>4087.4012</td>\n",
       "      <td>3348.3259</td>\n",
       "    </tr>\n",
       "    <tr>\n",
       "      <th>1</th>\n",
       "      <td>2018-01-03</td>\n",
       "      <td>4111.3925</td>\n",
       "      <td>3369.1084</td>\n",
       "    </tr>\n",
       "    <tr>\n",
       "      <th>2</th>\n",
       "      <td>2018-01-04</td>\n",
       "      <td>4128.8119</td>\n",
       "      <td>3385.7102</td>\n",
       "    </tr>\n",
       "    <tr>\n",
       "      <th>3</th>\n",
       "      <td>2018-01-05</td>\n",
       "      <td>4138.7505</td>\n",
       "      <td>3391.7501</td>\n",
       "    </tr>\n",
       "    <tr>\n",
       "      <th>4</th>\n",
       "      <td>2018-01-08</td>\n",
       "      <td>4160.1595</td>\n",
       "      <td>3409.4795</td>\n",
       "    </tr>\n",
       "  </tbody>\n",
       "</table>\n",
       "</div>"
      ],
      "text/plain": [
       "          日期      hs300         sz\n",
       "0 2018-01-02  4087.4012  3348.3259\n",
       "1 2018-01-03  4111.3925  3369.1084\n",
       "2 2018-01-04  4128.8119  3385.7102\n",
       "3 2018-01-05  4138.7505  3391.7501\n",
       "4 2018-01-08  4160.1595  3409.4795"
      ]
     },
     "execution_count": 1,
     "metadata": {},
     "output_type": "execute_result"
    }
   ],
   "source": [
    "import pandas as pd\n",
    "\n",
    "df = pd.read_excel('./数据/上证指数与沪深300.xlsx')\n",
    "df['日期'] = pd.to_datetime(df['日期'])   # 将字符串转为日期格式\n",
    "df.head()"
   ]
  },
  {
   "cell_type": "code",
   "execution_count": 2,
   "metadata": {},
   "outputs": [
    {
     "data": {
      "text/html": [
       "<div>\n",
       "<style scoped>\n",
       "    .dataframe tbody tr th:only-of-type {\n",
       "        vertical-align: middle;\n",
       "    }\n",
       "\n",
       "    .dataframe tbody tr th {\n",
       "        vertical-align: top;\n",
       "    }\n",
       "\n",
       "    .dataframe thead th {\n",
       "        text-align: right;\n",
       "    }\n",
       "</style>\n",
       "<table border=\"1\" class=\"dataframe\">\n",
       "  <thead>\n",
       "    <tr style=\"text-align: right;\">\n",
       "      <th></th>\n",
       "      <th>hs300</th>\n",
       "      <th>sz</th>\n",
       "    </tr>\n",
       "  </thead>\n",
       "  <tbody>\n",
       "    <tr>\n",
       "      <th>count</th>\n",
       "      <td>460.000000</td>\n",
       "      <td>460.000000</td>\n",
       "    </tr>\n",
       "    <tr>\n",
       "      <th>mean</th>\n",
       "      <td>3664.266460</td>\n",
       "      <td>2930.237842</td>\n",
       "    </tr>\n",
       "    <tr>\n",
       "      <th>std</th>\n",
       "      <td>333.651406</td>\n",
       "      <td>243.874533</td>\n",
       "    </tr>\n",
       "    <tr>\n",
       "      <th>min</th>\n",
       "      <td>2964.842100</td>\n",
       "      <td>2464.362800</td>\n",
       "    </tr>\n",
       "    <tr>\n",
       "      <th>25%</th>\n",
       "      <td>3364.816625</td>\n",
       "      <td>2746.438775</td>\n",
       "    </tr>\n",
       "    <tr>\n",
       "      <th>50%</th>\n",
       "      <td>3762.250200</td>\n",
       "      <td>2917.781900</td>\n",
       "    </tr>\n",
       "    <tr>\n",
       "      <th>75%</th>\n",
       "      <td>3897.218650</td>\n",
       "      <td>3095.709675</td>\n",
       "    </tr>\n",
       "    <tr>\n",
       "      <th>max</th>\n",
       "      <td>4389.885300</td>\n",
       "      <td>3559.465300</td>\n",
       "    </tr>\n",
       "  </tbody>\n",
       "</table>\n",
       "</div>"
      ],
      "text/plain": [
       "             hs300           sz\n",
       "count   460.000000   460.000000\n",
       "mean   3664.266460  2930.237842\n",
       "std     333.651406   243.874533\n",
       "min    2964.842100  2464.362800\n",
       "25%    3364.816625  2746.438775\n",
       "50%    3762.250200  2917.781900\n",
       "75%    3897.218650  3095.709675\n",
       "max    4389.885300  3559.465300"
      ]
     },
     "execution_count": 2,
     "metadata": {},
     "output_type": "execute_result"
    }
   ],
   "source": [
    "df.describe()   # 描述性统计"
   ]
  },
  {
   "cell_type": "markdown",
   "metadata": {},
   "source": [
    "### 绘制图形\n",
    "#### 两指数走势图"
   ]
  },
  {
   "cell_type": "code",
   "execution_count": 3,
   "metadata": {},
   "outputs": [
    {
     "data": {
      "image/png": "[encoded data removed]",
      "text/plain": [
       "<Figure size 648x432 with 1 Axes>"
      ]
     },
     "metadata": {
      "needs_background": "light"
     },
     "output_type": "display_data"
    }
   ],
   "source": [
    "import matplotlib\n",
    "import matplotlib.pyplot as plt\n",
    "from pylab import mpl\n",
    "\n",
    "# 防止图形中文文字乱码\n",
    "mpl.rcParams['font.sans-serif'] = ['SimHei']   # 以黑体的字体显示中文\n",
    "mpl.rcParams['axes.unicode_minus'] = False   # 解决保存图像是负号'-'显示为方块的问题\n",
    "\n",
    "plt.figure(figsize=(9,6))   # 设置图形大小\n",
    "plt.title('两指数走势图', fontsize=14)   # 标题，fontsize 为字体大小\n",
    "# 常见线的属性有：color, label, linewidth, linestyle, marker 等\n",
    "plt.plot(df['日期'], df['hs300'], color='blue', label='沪深 300 指数')\n",
    "plt.plot(df['日期'], df['sz'], color='red', label='上证指数')\n",
    "plt.legend(fontsize=14)  # 显示上面的 label\n",
    "plt.xticks(fontsize=14)  # x轴文字设置\n",
    "plt.yticks(fontsize=14)\n",
    "plt.xlabel('日期', fontsize=14)\n",
    "plt.ylabel('指数值', fontsize=14)\n",
    "# plt.axis([0, 2*np.pi, -1, 1])   #设置坐标范围 axis([xmin,xmax,ymin,ymax])\n",
    "# plt.ylim(-1,1)   #仅设置 y 轴坐标范围\n",
    "plt.show()"
   ]
  },
  {
   "cell_type": "markdown",
   "metadata": {},
   "source": [
    "#### 散点图"
   ]
  },
  {
   "cell_type": "code",
   "execution_count": 4,
   "metadata": {},
   "outputs": [
    {
     "data": {
      "image/png": "[encoded data removed]",
      "text/plain": [
       "<Figure size 648x432 with 1 Axes>"
      ]
     },
     "metadata": {
      "needs_background": "light"
     },
     "output_type": "display_data"
    }
   ],
   "source": [
    "plt.figure(figsize=(9,6))\n",
    "plt.scatter(x=df['sz'], y=df['hs300'], c='b', marker='o')\n",
    "plt.xticks(fontsize=14)\n",
    "plt.yticks(fontsize=14)\n",
    "plt.title('两指数散点图', fontsize=14)\n",
    "plt.xlabel('上证指数', fontsize=14)\n",
    "plt.ylabel('沪深300指数', fontsize=14)\n",
    "plt.grid()"
   ]
  },
  {
   "cell_type": "markdown",
   "metadata": {},
   "source": [
    "## 原理讲解"
   ]
  },
  {
   "cell_type": "markdown",
   "metadata": {},
   "source": [
    "### 古典线性回归模型的假定"
   ]
  },
  {
   "cell_type": "markdown",
   "metadata": {},
   "source": [
    "#### 假定1：线性假定"
   ]
  },
  {
   "cell_type": "markdown",
   "metadata": {},
   "source": [
    "总体模型为:$y_i=\\beta_1x_{i1}+\\beta_2x_{i2}+\\cdots+\\beta_Kx_{iK}+\\varepsilon_i (i=1,\\cdots,n)\\tag{1}$            \n",
    "\n",
    "其中 $n$ 为样本容量，解释变量 $x_{ik}$ 的第一个下标表示第 $i$ 个“观测值”，而第二个下标则表示第 $k$ 个解释变量$(k=1,\\cdots,K)$，共有 $K$个 解释变量。如果有常数项，则通常令第一个解释变量为单位向量，即 $x_{i1}=1$\n",
    "\n",
    "为了更简洁地表达，下面引入矩阵符号。把方程（1）的所有解释变量和参数都写成向量，记第 $i$ 个观测数据为$x_i\\equiv\\left(x_{i 1} ,x_{i_{2}} \\cdots x_{i K}\\right)^{\\prime}$，$\\beta \\equiv\\left(\\beta_{1}, \\beta_{2} \\cdots \\beta_{K}\\right)^{\\prime}$，则方程（1）为：\n",
    "\n",
    "$y_{i}=x_{i}^{\\prime} \\boldsymbol{\\beta}+\\varepsilon_{i} \\quad(i=1, \\cdots, n)\\tag{2}$"
   ]
  },
  {
   "cell_type": "markdown",
   "metadata": {},
   "source": [
    "#### 假定2：严格外生性"
   ]
  },
  {
   "cell_type": "markdown",
   "metadata": {},
   "source": [
    "$\\mathrm{E}\\left(\\varepsilon_{i} | X\\right)=\\mathrm{E}\\left(\\boldsymbol{\\varepsilon}_{i} | x_{1}, \\cdots, x_{n}\\right)=0 \\quad(i=1, \\cdots, n)\\tag{3}$"
   ]
  },
  {
   "cell_type": "markdown",
   "metadata": {},
   "source": [
    "#### 假定3：不存在“严格多重共线性”（strict multicolinearity），即数据矩阵 $X$ 满列秩"
   ]
  },
  {
   "cell_type": "markdown",
   "metadata": {},
   "source": [
    "#### 假定4：球型扰动项（spherical disturbance），即扰动项满足“同方差”、“无自相关”的性质"
   ]
  },
  {
   "cell_type": "markdown",
   "metadata": {},
   "source": [
    "$\\operatorname{Var}(\\boldsymbol{\\varepsilon} | X)=\\mathrm{E}\\left(\\boldsymbol{\\varepsilon} \\boldsymbol{\\varepsilon}^{\\prime} | X\\right)=\\sigma^{2} \\boldsymbol{I}_{n}=\\left(\\begin{array}{ccc}\\sigma^{2} & & 0 \\\\ & \\ddots & \\\\ 0 & & \\sigma^{2}\\end{array}\\right)\\tag{4}$"
   ]
  },
  {
   "cell_type": "markdown",
   "metadata": {},
   "source": [
    "### 最小二乘法\n",
    "假定待估计方程为：$hs300 = c+sz$。其中 c 为常数项"
   ]
  },
  {
   "cell_type": "markdown",
   "metadata": {},
   "source": [
    "#### OLS 估计量 b"
   ]
  },
  {
   "cell_type": "markdown",
   "metadata": {},
   "source": [
    "$$b \\equiv\\left(X^{\\prime} X\\right)^{-1} X^{\\prime} y\\tag{5}$$"
   ]
  },
  {
   "cell_type": "code",
   "execution_count": 5,
   "metadata": {},
   "outputs": [
    {
     "name": "stdout",
     "output_type": "stream",
     "text": [
      "OLS估计值为：\n",
      " [[-124.69031687]\n",
      " [   1.29305435]]\n"
     ]
    }
   ],
   "source": [
    "import numpy as np\n",
    "\n",
    "n = df.shape[0]   # 样本容量\n",
    "beta = np.array(df['sz']).reshape(n,1)\n",
    "c = np.ones((n,1))   # 常数项\n",
    "X = np.hstack((c,beta))   # hstack()在行上合并，vstack()在列上合并\n",
    "y = np.array(df['hs300']).reshape(n,1)\n",
    "\n",
    "b = np.linalg.inv(X.T @ X) @ X.T @ y\n",
    "print('OLS估计值为：\\n',b)"
   ]
  },
  {
   "cell_type": "markdown",
   "metadata": {},
   "source": [
    "#### 残差 $e$"
   ]
  },
  {
   "cell_type": "markdown",
   "metadata": {},
   "source": [
    "$$e \\equiv\\left(\\begin{array}{llll}\n",
    "e_{1},e_{2},\\cdots,e_{n}\n",
    "\\end{array}\\right)=y-X \\widetilde{\\beta}\\tag{6}$$"
   ]
  },
  {
   "cell_type": "code",
   "execution_count": 6,
   "metadata": {},
   "outputs": [],
   "source": [
    "e = y - X @ b"
   ]
  },
  {
   "cell_type": "markdown",
   "metadata": {},
   "source": [
    "#### 扰动项方差 $s^{2}$"
   ]
  },
  {
   "cell_type": "markdown",
   "metadata": {},
   "source": [
    "对于扰动项方差$\\sigma^{2}=\\operatorname{Var}\\left(\\varepsilon_{i}\\right)$，由于总体扰动项 $\\varepsilon$ 不可观测，而样本残差 $e$ 可以近似地看成是 $\\varepsilon$ 的实现值，故使用以下统计量作为对方差 $\\sigma^{2}$ 的估计：\n",
    "$$s^{2} \\equiv \\frac{1}{n-K} \\sum_{i=1}^{n} e_{i}^{2}\\tag{7}$$"
   ]
  },
  {
   "cell_type": "code",
   "execution_count": 7,
   "metadata": {},
   "outputs": [
    {
     "name": "stdout",
     "output_type": "stream",
     "text": [
      "平方和： [[5453855.41555515]]\n",
      "扰动项方差 [[11907.98125667]]\n",
      "扰动项标准差 109.12369704454952\n"
     ]
    }
   ],
   "source": [
    "K = X.ndim\n",
    "SSE = e.T @ e\n",
    "s2 = SSE/(n-K) \n",
    "\n",
    "import math \n",
    "s = math.sqrt(s2)\n",
    "\n",
    "print('平方和：', SSE)\n",
    "print('扰动项方差', s2)\n",
    "print('扰动项标准差', s)"
   ]
  },
  {
   "cell_type": "markdown",
   "metadata": {},
   "source": [
    "#### 估计量 b 的方差-协方差矩阵"
   ]
  },
  {
   "cell_type": "markdown",
   "metadata": {},
   "source": [
    "$$\\operatorname{Var}(b | X)=\\boldsymbol{\\sigma}^{2}\\left(X^{\\prime} X\\right)^{-1}\\tag{8}$$"
   ]
  },
  {
   "cell_type": "code",
   "execution_count": 8,
   "metadata": {},
   "outputs": [
    {
     "name": "stdout",
     "output_type": "stream",
     "text": [
      "协方差矩阵：\n",
      " [[ 3.77128774e+03 -1.27819004e+00]\n",
      " [-1.27819004e+00  4.36206925e-04]]\n"
     ]
    }
   ],
   "source": [
    "Varb = s2 * np.linalg.inv(X.T @ X)\n",
    "\n",
    "print('协方差矩阵：\\n', Varb)"
   ]
  },
  {
   "cell_type": "markdown",
   "metadata": {},
   "source": [
    "#### 置信区间"
   ]
  },
  {
   "cell_type": "markdown",
   "metadata": {},
   "source": [
    "由于 $\\frac{b_{k}-\\beta_{k}}{\\mathrm{SE}\\left(b_{k}\\right)} \\sim t(n-K)$，根据 $t_{\\alpha/2}$ 得：\n",
    "$$\\mathrm{P}\\left\\{-t_{\\alpha / 2}<\\frac{b_{k}-\\beta_{k}}{\\mathrm{SE}\\left(b_{k}\\right)}<t_{\\alpha / 2}\\right\\}=1-\\alpha\\tag{9}$$\n",
    "\n",
    "$$P\\left\\{b_{k}-t_{\\alpha / 2} \\operatorname{SE}\\left(b_{k}\\right)<\\boldsymbol{\\beta}_{k}<b_{k}+t_{\\alpha / 2} \\operatorname{SE}\\left(b_{k}\\right)\\right\\}=1-\\alpha\\tag{10}$$"
   ]
  },
  {
   "cell_type": "code",
   "execution_count": 9,
   "metadata": {},
   "outputs": [
    {
     "name": "stdout",
     "output_type": "stream",
     "text": [
      "95% 置信区间：\n",
      " [[-245.37220852   -4.00842522]\n",
      " [   1.25201092    1.33409777]]\n"
     ]
    }
   ],
   "source": [
    "from scipy. stats import t\n",
    "\n",
    "alpha = 0.05   # 置信度\n",
    "nu = max(0,n-K)   # 自由度\n",
    "tval = t.ppf(1-alpha/2,nu)   # 逆函数值\n",
    "SE_b = np.sqrt(np.diag(Varb)).reshape(K,1)\n",
    "bint = np.hstack((b-tval*SE_b,b+tval*SE_b))\n",
    "print('95% 置信区间：\\n', bint)"
   ]
  },
  {
   "cell_type": "markdown",
   "metadata": {},
   "source": [
    "#### t 检验"
   ]
  },
  {
   "cell_type": "markdown",
   "metadata": {},
   "source": [
    "$$t_{k} \\equiv \\frac{b_{k}-\\bar{\\beta}_{k}}{\\mathrm{SE}\\left(b_{k}\\right)} \\equiv \\frac{b_{k}-\\bar{\\beta}_{k}}{\\sqrt{s^{2}\\left(X^{\\prime} X\\right)_{k k}^{-1}}} \\sim t(n-K)\\tag{11}$$"
   ]
  },
  {
   "cell_type": "markdown",
   "metadata": {},
   "source": [
    "<div align=center><img src=\"https://lei-picture.oss-cn-beijing.aliyuncs.com/img/20200423133127.png\" width=\"450\"></div>"
   ]
  },
  {
   "cell_type": "code",
   "execution_count": 10,
   "metadata": {},
   "outputs": [
    {
     "name": "stdout",
     "output_type": "stream",
     "text": [
      "t检验为：\n",
      " [[-2.0304294 ]\n",
      " [61.91138223]]\n",
      "\n",
      "\n",
      "p值为：\n",
      " [[0.0428902]\n",
      " [0.       ]]\n"
     ]
    }
   ],
   "source": [
    "t_stat = b/SE_b\n",
    "t_p = 2*(1-t.cdf(abs(t_stat),n-K))\n",
    "\n",
    "print('t检验为：\\n', t_stat)\n",
    "print('\\n')\n",
    "print('p值为：\\n', t_p)"
   ]
  },
  {
   "cell_type": "markdown",
   "metadata": {},
   "source": [
    "#### 两类错误"
   ]
  },
  {
   "cell_type": "markdown",
   "metadata": {},
   "source": [
    "根据样本信息对总体进行推断，有可能犯错误。特别地，在进行假设检验时，可能犯两类性质不同的错误。\n",
    "\n",
    "**第Ⅰ类错误**：虽然原假设为真，但却根据观测数据做出了拒绝原假设的错误判断，即“弃真”。\n",
    "\n",
    "**第Ⅱ类错误**：虽然原假设为假（替代假设为真），但却根据观测数据做出了接受原假设的错误判断，即“存伪”。\n",
    "\n",
    "由于在进行假设检验时，通常知道第Ⅰ类错误的发生概率，而不知道第Ⅱ类错误的发生概率。因此，如果拒绝原假设，可以比较理直气壮，因为知道犯错误的概率就是显著性水平（比如5%）；另一方面，如果接受原假设，则比较没有把握，因为我们通常并不知道第Ⅱ类错误的发生概率（可能很高）。"
   ]
  },
  {
   "cell_type": "markdown",
   "metadata": {},
   "source": [
    "## 使用 statsmodels 库实现\n",
    "### 线性回归估计"
   ]
  },
  {
   "cell_type": "code",
   "execution_count": 11,
   "metadata": {},
   "outputs": [
    {
     "data": {
      "text/html": [
       "<table class=\"simpletable\">\n",
       "<caption>OLS Regression Results</caption>\n",
       "<tr>\n",
       "  <th>Dep. Variable:</th>            <td>y</td>        <th>  R-squared:         </th> <td>   0.893</td> \n",
       "</tr>\n",
       "<tr>\n",
       "  <th>Model:</th>                   <td>OLS</td>       <th>  Adj. R-squared:    </th> <td>   0.893</td> \n",
       "</tr>\n",
       "<tr>\n",
       "  <th>Method:</th>             <td>Least Squares</td>  <th>  F-statistic:       </th> <td>   3833.</td> \n",
       "</tr>\n",
       "<tr>\n",
       "  <th>Date:</th>             <td>Sun, 31 May 2020</td> <th>  Prob (F-statistic):</th> <td>1.20e-224</td>\n",
       "</tr>\n",
       "<tr>\n",
       "  <th>Time:</th>                 <td>17:10:48</td>     <th>  Log-Likelihood:    </th> <td> -2810.3</td> \n",
       "</tr>\n",
       "<tr>\n",
       "  <th>No. Observations:</th>      <td>   460</td>      <th>  AIC:               </th> <td>   5625.</td> \n",
       "</tr>\n",
       "<tr>\n",
       "  <th>Df Residuals:</th>          <td>   458</td>      <th>  BIC:               </th> <td>   5633.</td> \n",
       "</tr>\n",
       "<tr>\n",
       "  <th>Df Model:</th>              <td>     1</td>      <th>                     </th>     <td> </td>    \n",
       "</tr>\n",
       "<tr>\n",
       "  <th>Covariance Type:</th>      <td>nonrobust</td>    <th>                     </th>     <td> </td>    \n",
       "</tr>\n",
       "</table>\n",
       "<table class=\"simpletable\">\n",
       "<tr>\n",
       "    <td></td>       <th>coef</th>     <th>std err</th>      <th>t</th>      <th>P>|t|</th>  <th>[0.025</th>    <th>0.975]</th>  \n",
       "</tr>\n",
       "<tr>\n",
       "  <th>const</th> <td> -124.6903</td> <td>   61.411</td> <td>   -2.030</td> <td> 0.043</td> <td> -245.372</td> <td>   -4.008</td>\n",
       "</tr>\n",
       "<tr>\n",
       "  <th>x1</th>    <td>    1.2931</td> <td>    0.021</td> <td>   61.911</td> <td> 0.000</td> <td>    1.252</td> <td>    1.334</td>\n",
       "</tr>\n",
       "</table>\n",
       "<table class=\"simpletable\">\n",
       "<tr>\n",
       "  <th>Omnibus:</th>       <td>61.627</td> <th>  Durbin-Watson:     </th> <td>   0.010</td>\n",
       "</tr>\n",
       "<tr>\n",
       "  <th>Prob(Omnibus):</th> <td> 0.000</td> <th>  Jarque-Bera (JB):  </th> <td>  83.387</td>\n",
       "</tr>\n",
       "<tr>\n",
       "  <th>Skew:</th>          <td> 1.031</td> <th>  Prob(JB):          </th> <td>7.81e-19</td>\n",
       "</tr>\n",
       "<tr>\n",
       "  <th>Kurtosis:</th>      <td> 2.692</td> <th>  Cond. No.          </th> <td>3.55e+04</td>\n",
       "</tr>\n",
       "</table><br/><br/>Warnings:<br/>[1] Standard Errors assume that the covariance matrix of the errors is correctly specified.<br/>[2] The condition number is large, 3.55e+04. This might indicate that there are<br/>strong multicollinearity or other numerical problems."
      ],
      "text/plain": [
       "<class 'statsmodels.iolib.summary.Summary'>\n",
       "\"\"\"\n",
       "                            OLS Regression Results                            \n",
       "==============================================================================\n",
       "Dep. Variable:                      y   R-squared:                       0.893\n",
       "Model:                            OLS   Adj. R-squared:                  0.893\n",
       "Method:                 Least Squares   F-statistic:                     3833.\n",
       "Date:                Sun, 31 May 2020   Prob (F-statistic):          1.20e-224\n",
       "Time:                        17:10:48   Log-Likelihood:                -2810.3\n",
       "No. Observations:                 460   AIC:                             5625.\n",
       "Df Residuals:                     458   BIC:                             5633.\n",
       "Df Model:                           1                                         \n",
       "Covariance Type:            nonrobust                                         \n",
       "==============================================================================\n",
       "                 coef    std err          t      P>|t|      [0.025      0.975]\n",
       "------------------------------------------------------------------------------\n",
       "const       -124.6903     61.411     -2.030      0.043    -245.372      -4.008\n",
       "x1             1.2931      0.021     61.911      0.000       1.252       1.334\n",
       "==============================================================================\n",
       "Omnibus:                       61.627   Durbin-Watson:                   0.010\n",
       "Prob(Omnibus):                  0.000   Jarque-Bera (JB):               83.387\n",
       "Skew:                           1.031   Prob(JB):                     7.81e-19\n",
       "Kurtosis:                       2.692   Cond. No.                     3.55e+04\n",
       "==============================================================================\n",
       "\n",
       "Warnings:\n",
       "[1] Standard Errors assume that the covariance matrix of the errors is correctly specified.\n",
       "[2] The condition number is large, 3.55e+04. This might indicate that there are\n",
       "strong multicollinearity or other numerical problems.\n",
       "\"\"\""
      ]
     },
     "execution_count": 11,
     "metadata": {},
     "output_type": "execute_result"
    }
   ],
   "source": [
    "import statsmodels.api as sm\n",
    "\n",
    "# sm.add_constant(data, prepend=False)\n",
    "mod = sm.OLS(y, X)\n",
    "res = mod.fit()\n",
    "res.summary()   # 展示估计结果"
   ]
  },
  {
   "cell_type": "markdown",
   "metadata": {},
   "source": [
    "### 常用命令"
   ]
  },
  {
   "cell_type": "code",
   "execution_count": 12,
   "metadata": {},
   "outputs": [
    {
     "data": {
      "text/plain": [
       "array([-124.69031687,    1.29305435])"
      ]
     },
     "execution_count": 12,
     "metadata": {},
     "output_type": "execute_result"
    }
   ],
   "source": [
    "res.params   # 获取估计参数值"
   ]
  },
  {
   "cell_type": "code",
   "execution_count": 13,
   "metadata": {},
   "outputs": [
    {
     "data": {
      "text/plain": [
       "array([6.14108113e+01, 2.08855674e-02])"
      ]
     },
     "execution_count": 13,
     "metadata": {},
     "output_type": "execute_result"
    }
   ],
   "source": [
    "res.bse   # 获取标准差"
   ]
  },
  {
   "cell_type": "code",
   "execution_count": 14,
   "metadata": {},
   "outputs": [
    {
     "name": "stdout",
     "output_type": "stream",
     "text": [
      "[-117.4758394  -120.35744134 -124.40507098 -122.27638992 -123.79246764]\n"
     ]
    }
   ],
   "source": [
    "resid = res.resid   # 获取残差\n",
    "print(resid[:5])   # 只打印前五个"
   ]
  },
  {
   "cell_type": "code",
   "execution_count": 15,
   "metadata": {},
   "outputs": [
    {
     "data": {
      "text/plain": [
       "array([[ 3.77128774e+03, -1.27819004e+00],\n",
       "       [-1.27819004e+00,  4.36206925e-04]])"
      ]
     },
     "execution_count": 15,
     "metadata": {},
     "output_type": "execute_result"
    }
   ],
   "source": [
    "res.cov_params()   # 获取协方差矩阵"
   ]
  },
  {
   "cell_type": "code",
   "execution_count": 16,
   "metadata": {},
   "outputs": [
    {
     "data": {
      "text/plain": [
       "<class 'statsmodels.stats.contrast.ContrastResults'>\n",
       "<F test: F=array([[3833.01924991]]), p=1.195406827896976e-224, df_denom=458, df_num=1>"
      ]
     },
     "execution_count": 16,
     "metadata": {},
     "output_type": "execute_result"
    }
   ],
   "source": [
    "res.f_test(\"x1 = 0\")   # Wald检验"
   ]
  },
  {
   "cell_type": "markdown",
   "metadata": {},
   "source": [
    "### 线性拟合示意图"
   ]
  },
  {
   "cell_type": "code",
   "execution_count": 17,
   "metadata": {},
   "outputs": [
    {
     "data": {
      "image/png": "[encoded data removed]",
      "text/plain": [
       "<Figure size 648x432 with 1 Axes>"
      ]
     },
     "metadata": {
      "needs_background": "light"
     },
     "output_type": "display_data"
    }
   ],
   "source": [
    "plt.figure(figsize=(9,6))\n",
    "plt.scatter(x=df['sz'], y=df['hs300'], c='b', marker='o')\n",
    "plt.plot(df['sz'], res.params[0]+res.params[1]*df['sz'], '-r', lw=2.5)\n",
    "plt.xticks(fontsize=14)\n",
    "plt.yticks(fontsize=14)\n",
    "plt.title('线性拟合示意图', fontsize=14)\n",
    "plt.xlabel('上证指数', fontsize=14)\n",
    "plt.ylabel('沪深300指数', fontsize=14)\n",
    "plt.grid()"
   ]
  },
  {
   "cell_type": "markdown",
   "metadata": {},
   "source": [
    "## matlab实现\n",
    "### 原理实现"
   ]
  },
  {
   "cell_type": "markdown",
   "metadata": {},
   "source": [
    "```matlab\n",
    "function [B,resid,siga2,bint,cov_matrix,t,t_p] = OLS_regress(Y,X)\n",
    "\n",
    "%输入变量:\n",
    "%Y - 被解释变量\n",
    "%X - 解释变量\n",
    "\n",
    "%输出变量:\n",
    "% B - 待估计参数beta\n",
    "% resid - 残差\n",
    "% siga2 - 残差方差\n",
    "% bint - 95%置信区间序列\n",
    "% cov_matrix - 协方差矩阵\n",
    "\n",
    "% 1.求OLS估计量B\n",
    "B = inv(X'*X)*X'*Y;\n",
    "\n",
    "% 2.计算协方差矩阵\n",
    "resid = Y - X*B;  %残差\n",
    "[n,K] = size(X);  \n",
    "siga2 = sum(resid.^2)/(n-K);\n",
    "cov_matrix = siga2*inv(X'*X);\n",
    "\n",
    "% 3.t检验\n",
    "t = B./sqrt(diag(cov_matrix));\n",
    "t_p = 2*(1-tcdf(abs(t),n-K));\n",
    "\n",
    "% 4.计算95%置信区间\n",
    "alpha = 0.05;   %置信度\n",
    "nu = max(0,n-K);  %自由度\n",
    "tval = tinv(1-alpha/2,nu);\n",
    "se = sqrt(diag(cov_matrix));\n",
    "bint = [B-tval*se, B+tval*se];\n",
    "```"
   ]
  },
  {
   "cell_type": "markdown",
   "metadata": {},
   "source": [
    "### regress 函数介绍\n",
    "#### 参数解释\n",
    "* B：回归系数，是个向量（the vector of regression coefficients in the linear model Y =X*B）。\n",
    "* BINT：回归系数的区间估计（matrix BINT of95% confidence intervals for B）。\n",
    "* R：残差（vector of residuals）。\n",
    "* RINT：置信区间（matrix RINT of intervals that can be used to diagnose outliers）。\n",
    "* STATS：用于检验回归模型的统计量。有 4 数值：判定系数 $R^2$，F 统计量观测值，检验的 p 的值，误差方差的估计。\n",
    "* ALPHA：显著性水平（缺少时为默认值 0.05）。"
   ]
  },
  {
   "cell_type": "markdown",
   "metadata": {},
   "source": [
    "#### 使用实例\n",
    "```matlab\n",
    "% 1.载入数据\n",
    "data = xlsread('./数据/hourse.xlsx');\n",
    "f1 = data(:,2); f2 = data(:,3); e = data(:,6);\n",
    "\n",
    "% 2.作线性回归 f1=e\n",
    "[B,BINT,R,RINT,STATS] = regress(f1,e);\n",
    "\n",
    "% 3.作线性回归 f1=c+e\n",
    "[B,BINT,R,RINT,STATS] = regress(f1,[ones(length(f1),1),e]);\n",
    "\n",
    "% 4.作线性回归 f1=c+f2+e\n",
    "[B,BINT,R,RINT,STATS] = regress(f1,[ones(length(f1),1),f2,e]);\n",
    "```"
   ]
  }
 ],
 "metadata": {
  "kernelspec": {
   "display_name": "Python 3",
   "language": "python",
   "name": "python3"
  },
  "language_info": {
   "codemirror_mode": {
    "name": "ipython",
    "version": 3
   },
   "file_extension": ".py",
   "mimetype": "text/x-python",
   "name": "python",
   "nbconvert_exporter": "python",
   "pygments_lexer": "ipython3",
   "version": "3.7.6"
  }
 },
 "nbformat": 4,
 "nbformat_minor": 4
}
