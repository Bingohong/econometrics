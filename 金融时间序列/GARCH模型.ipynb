{
 "cells": [
  {
   "cell_type": "markdown",
   "metadata": {},
   "source": [
    "# GARCH模型"
   ]
  },
  {
   "cell_type": "markdown",
   "metadata": {},
   "source": [
    "## 原理讲解\n",
    "### GARCH 模型\n",
    "在 ARCH ( $p$ )模型中，如果 $p$ 很大，则要估计很多参数，会损失样本容量。Bollerslev（1986）提出 GARCH，使得待估计参数减少，而对未来条件方差的预测更加准确。其基本思想是，在 ARCH 模型的基础上，再加上 $\\sigma_{t}^{2}$ 的自同归部分， 即 $\\sigma_{t}^{2}$ 还是 $\\left\\{\\boldsymbol{\\sigma}_{t-1}^{2}, \\cdots, \\sigma_{t-p}^{2}\\right\\}$ 的函数。 GARCH $(p,$ $q$ ) 的模型设定为：\n",
    "\n",
    "$$\\sigma_{t}^{2}=\\alpha_{0}+\\alpha_{1} \\varepsilon_{t-1}^{2}+\\cdots+\\alpha_{q} \\varepsilon_{t-q}^{2}+\\gamma_{1} \\sigma_{t-1}^{2}+\\cdots+\\gamma_{p} \\sigma_{t-p}^{2}\\tag{1}$$\n",
    "\n",
    "其中，p 为 $\\sigma_{t}^{2}$ 的自回归阶数，而 $q$ 为 $\\varepsilon_{t}^{2}$ 的滞后阶数。称 $\\varepsilon_{t-i}^{2}$ 为“ARCH 项”，而称 $\\sigma_{t-i}^{2}$ 为“GARCH 项”。"
   ]
  },
  {
   "cell_type": "markdown",
   "metadata": {},
   "source": [
    "### 何时使用 ARCH 或 GARCH 模型\n",
    "* 首先，用 OLS 估计原方程“ $y_{t}=x_{t}^\\prime \\boldsymbol{\\beta}+\\varepsilon_{t}$，得到残差序列 $\\left\\{e_{t}\\right\\}_{\\circ}$ 其次，用 $0 \\mathrm{LS}$ 估计辅助同归 $, e_{t}^{2}=\\alpha_{0}+\\alpha_{1} e_{t-1}^{2}+\\cdots+\\alpha_{p} e_{t-p}^{2}+e r r o r_{t},$ 并检验原假设“ $H_{0}: \\alpha_{1}=\\alpha_{2}=\\cdots=\\alpha_{p}=0 \"($ 不存在条件异方差 )。Engle（1982）提出进行 LM 检验，其检验统计量为 $T R^{2} \\stackrel{d}{\\longrightarrow} \\chi^{2}(p)$，其中 $T$ 为样本 容量， $R^{2}$ 为上述辅助同归的可决系数。如果拒绝 $H_{0},$ 则认为应使用 ARCH 或 GARCH 模型。\n",
    "\n",
    "* 可以对残差平方序列 $\\left|e_{t}^{2}\\right|$ 进行 $Q$ 检验, $,$ 检验其序列相关性。如果 $\\left\\{e_{t}^{2}\\right\\}$ 存在自相关,则认为 $\\varepsilon_{t}$ 存在条件异方差。\n",
    "\n",
    "* 最为直接的方法是,在估计 ARCH 或 GARCH 模型之后,看条件方差方程中的系数 （即所有 $\\alpha$ 与 $\\gamma$ ) 是否显著。"
   ]
  },
  {
   "cell_type": "markdown",
   "metadata": {},
   "source": [
    "### ARCH 与 GARCH 模型的扩展\n",
    "* ARCH-M：金融理论认为，金融资产的风险越高，其期望收益率也应该越高，这样才会有人愿意持有它。超出正常期望收益率的部分，称为\"风险溢价\"(riskpremium)。但在标准的 ARCH 模型中，变量的均值与条件方差却没有关系。Engle，Lilien and Robins (1987)提出了如下\"ARCH - in - Mean 模型\"(简记 ARCH - M)。\n",
    "\n",
    "* TARCH：\"坏消息\"对资产价格波动性的影响可能大于好消息的影响。Glosten，Jagannathanand Runkle ( 1993)提出了非对称( asymmetric)的\"门限 GARCH\"模型( Threshold GARCH，简记 TARCH)。\n",
    "\n",
    "* EGARCH：在标准的 GARCH 模型中，对参数的取值有所限制，给 MLE 估计带来不便。为此，使用对数形式的条件方差方程\n",
    "\n",
    "* 带 ARMA 的 GARCH\n",
    "\n",
    "* 在条件方差方程中引入解释变量\n",
    "\n",
    "* 使用非正态扰动项"
   ]
  },
  {
   "cell_type": "markdown",
   "metadata": {},
   "source": [
    "## KS 检验与QQ 图原理讲解\n",
    "### KS 检验\n",
    "Kolmogorov-Smirnov 检验是基于累计分布函数的，用于检验一个分布是否符合某种理论分布或比较两个经验分布是否有显著差异。\n",
    "\n",
    "单样本 K-S 检验是用来检验一个数据的观测经验分布是否符合已知的理论分布。\n",
    "\n",
    "两样本 K-S 检验由于对两样本的经验分布函数的位置和形状参数的差异都敏感，所以成为比较两样本的最有用且最常用的非参数方法之一。\n",
    "\n"
   ]
  },
  {
   "cell_type": "markdown",
   "metadata": {},
   "source": [
    "### QQ 图原理\n",
    "任何分布都能化为 [0, 1] 均匀分布\n",
    "\n",
    "假设 $F_{X}(a)=p(x \\leq a)$ 为累积分布函数，$f(x)$ 为概率密度函数， $F_{X}(a)=\\int_{-\\infty}^{a} f(x) d x,$ 则存在如下等式:\n",
    "\n",
    "$$P\\left(F_{X}(X) \\leq a\\right)=P\\left(X \\leq F_{X}^{-1}(a)\\right)=F_{X}\\left(F_{X}^{-1}(a)\\right)=a\\tag{2}$$\n",
    "\n",
    "则累积分布函数 $Y=F_{X}(X)$ 服从 [0, 1] 间的均匀分布。"
   ]
  },
  {
   "cell_type": "markdown",
   "metadata": {},
   "source": [
    "## arch 模块实现"
   ]
  },
  {
   "cell_type": "code",
   "execution_count": 1,
   "metadata": {},
   "outputs": [
    {
     "data": {
      "image/png": "[encoded data removed]",
      "text/plain": [
       "<Figure size 432x288 with 1 Axes>"
      ]
     },
     "metadata": {
      "needs_background": "light"
     },
     "output_type": "display_data"
    }
   ],
   "source": [
    "import datetime as dt\n",
    "\n",
    "import arch.data.sp500\n",
    "\n",
    "st = dt.datetime(1988, 1, 1)\n",
    "en = dt.datetime(2018, 1, 1)\n",
    "data = arch.data.sp500.load()\n",
    "market = data['Adj Close']\n",
    "returns = 100 * market.pct_change().dropna()\n",
    "ax = returns.plot()\n",
    "xlim = ax.set_xlim(returns.index.min(), returns.index.max())"
   ]
  },
  {
   "cell_type": "code",
   "execution_count": 2,
   "metadata": {},
   "outputs": [
    {
     "name": "stdout",
     "output_type": "stream",
     "text": [
      "Iteration:      1,   Func. Count:      6,   Neg. LLF: 6955.831420300672\n",
      "Iteration:      2,   Func. Count:     16,   Neg. LLF: 6951.317990771391\n",
      "Iteration:      3,   Func. Count:     24,   Neg. LLF: 6947.0646164023\n",
      "Iteration:      4,   Func. Count:     32,   Neg. LLF: 6946.364741603253\n",
      "Iteration:      5,   Func. Count:     39,   Neg. LLF: 6942.159596737265\n",
      "Iteration:      6,   Func. Count:     46,   Neg. LLF: 6939.773381475562\n",
      "Iteration:      7,   Func. Count:     53,   Neg. LLF: 6938.412846197003\n",
      "Iteration:      8,   Func. Count:     60,   Neg. LLF: 6936.760037838338\n",
      "Iteration:      9,   Func. Count:     66,   Neg. LLF: 6936.742006327482\n",
      "Iteration:     10,   Func. Count:     72,   Neg. LLF: 6936.718529994181\n",
      "Iteration:     11,   Func. Count:     78,   Neg. LLF: 6936.7184774904035\n",
      "Optimization terminated successfully.    (Exit mode 0)\n",
      "            Current function value: 6936.718476989043\n",
      "            Iterations: 11\n",
      "            Function evaluations: 79\n",
      "            Gradient evaluations: 11\n"
     ]
    },
    {
     "data": {
      "text/html": [
       "<table class=\"simpletable\">\n",
       "<caption>Constant Mean - GARCH Model Results</caption>\n",
       "<tr>\n",
       "  <th>Dep. Variable:</th>      <td>Adj Close</td>     <th>  R-squared:         </th>  <td>  -0.001</td> \n",
       "</tr>\n",
       "<tr>\n",
       "  <th>Mean Model:</th>       <td>Constant Mean</td>   <th>  Adj. R-squared:    </th>  <td>  -0.001</td> \n",
       "</tr>\n",
       "<tr>\n",
       "  <th>Vol Model:</th>            <td>GARCH</td>       <th>  Log-Likelihood:    </th> <td>  -6936.72</td>\n",
       "</tr>\n",
       "<tr>\n",
       "  <th>Distribution:</th>        <td>Normal</td>       <th>  AIC:               </th> <td>   13881.4</td>\n",
       "</tr>\n",
       "<tr>\n",
       "  <th>Method:</th>        <td>Maximum Likelihood</td> <th>  BIC:               </th> <td>   13907.5</td>\n",
       "</tr>\n",
       "<tr>\n",
       "  <th></th>                        <td></td>          <th>  No. Observations:  </th>    <td>5030</td>   \n",
       "</tr>\n",
       "<tr>\n",
       "  <th>Date:</th>           <td>Thu, Jun 04 2020</td>  <th>  Df Residuals:      </th>    <td>5026</td>   \n",
       "</tr>\n",
       "<tr>\n",
       "  <th>Time:</th>               <td>09:09:56</td>      <th>  Df Model:          </th>      <td>4</td>    \n",
       "</tr>\n",
       "</table>\n",
       "<table class=\"simpletable\">\n",
       "<caption>Mean Model</caption>\n",
       "<tr>\n",
       "   <td></td>     <th>coef</th>     <th>std err</th>      <th>t</th>       <th>P>|t|</th>     <th>95.0% Conf. Int.</th>   \n",
       "</tr>\n",
       "<tr>\n",
       "  <th>mu</th> <td>    0.0564</td> <td>1.149e-02</td> <td>    4.906</td> <td>9.302e-07</td> <td>[3.384e-02,7.887e-02]</td>\n",
       "</tr>\n",
       "</table>\n",
       "<table class=\"simpletable\">\n",
       "<caption>Volatility Model</caption>\n",
       "<tr>\n",
       "      <td></td>        <th>coef</th>     <th>std err</th>      <th>t</th>       <th>P>|t|</th>     <th>95.0% Conf. Int.</th>   \n",
       "</tr>\n",
       "<tr>\n",
       "  <th>omega</th>    <td>    0.0175</td> <td>4.683e-03</td> <td>    3.738</td> <td>1.854e-04</td> <td>[8.328e-03,2.669e-02]</td>\n",
       "</tr>\n",
       "<tr>\n",
       "  <th>alpha[1]</th> <td>    0.1022</td> <td>1.301e-02</td> <td>    7.852</td> <td>4.105e-15</td>  <td>[7.665e-02,  0.128]</td> \n",
       "</tr>\n",
       "<tr>\n",
       "  <th>beta[1]</th>  <td>    0.8852</td> <td>1.380e-02</td> <td>   64.125</td>   <td>0.000</td>     <td>[  0.858,  0.912]</td>  \n",
       "</tr>\n",
       "</table><br/><br/>Covariance estimator: robust"
      ],
      "text/plain": [
       "<class 'statsmodels.iolib.summary.Summary'>\n",
       "\"\"\"\n",
       "                     Constant Mean - GARCH Model Results                      \n",
       "==============================================================================\n",
       "Dep. Variable:              Adj Close   R-squared:                      -0.001\n",
       "Mean Model:             Constant Mean   Adj. R-squared:                 -0.001\n",
       "Vol Model:                      GARCH   Log-Likelihood:               -6936.72\n",
       "Distribution:                  Normal   AIC:                           13881.4\n",
       "Method:            Maximum Likelihood   BIC:                           13907.5\n",
       "                                        No. Observations:                 5030\n",
       "Date:                Thu, Jun 04 2020   Df Residuals:                     5026\n",
       "Time:                        09:09:56   Df Model:                            4\n",
       "                                 Mean Model                                 \n",
       "============================================================================\n",
       "                 coef    std err          t      P>|t|      95.0% Conf. Int.\n",
       "----------------------------------------------------------------------------\n",
       "mu             0.0564  1.149e-02      4.906  9.302e-07 [3.384e-02,7.887e-02]\n",
       "                              Volatility Model                              \n",
       "============================================================================\n",
       "                 coef    std err          t      P>|t|      95.0% Conf. Int.\n",
       "----------------------------------------------------------------------------\n",
       "omega          0.0175  4.683e-03      3.738  1.854e-04 [8.328e-03,2.669e-02]\n",
       "alpha[1]       0.1022  1.301e-02      7.852  4.105e-15   [7.665e-02,  0.128]\n",
       "beta[1]        0.8852  1.380e-02     64.125      0.000     [  0.858,  0.912]\n",
       "============================================================================\n",
       "\n",
       "Covariance estimator: robust\n",
       "\"\"\""
      ]
     },
     "execution_count": 2,
     "metadata": {},
     "output_type": "execute_result"
    }
   ],
   "source": [
    "from arch import arch_model\n",
    "\n",
    "model_arch = arch_model(y=returns, mean='Constant', lags=0, vol='GARCH',p=1,\n",
    "                       o=0, q=1, dist='normal')   # 构建 GARCH（1,1)模型\n",
    "res = model_arch.fit()\n",
    "res.summary()"
   ]
  },
  {
   "cell_type": "code",
   "execution_count": 3,
   "metadata": {},
   "outputs": [
    {
     "data": {
      "image/png": "[encoded data removed]",
      "text/plain": [
       "<Figure size 432x288 with 2 Axes>"
      ]
     },
     "metadata": {
      "needs_background": "light"
     },
     "output_type": "display_data"
    }
   ],
   "source": [
    "pic = res.plot()"
   ]
  },
  {
   "cell_type": "markdown",
   "metadata": {},
   "source": [
    "## matlab 实现\n",
    "牛津大学教授代码：https://pan.baidu.com/s/1N_J_cYhRq-b_jfPaO_qL2g#list/path=%2F\n",
    "\n",
    "GARCH 估计与残差分布检验\n",
    "```matlab\n",
    "% 1.导入数据\n",
    "data = xlsread('C:\\Users\\Administrator\\Desktop\\各市场收益率');\n",
    "rst   = data(:,2);   %WTI市场现货原始收益率\n",
    "mldate   = x2mdate(data(:,1)); % 导入日期\n",
    "\n",
    "% 2.处理汇率收益率序列\n",
    "epsilon=rst-mean(rst);   %现货原始收益率残差\n",
    "T=length(epsilon);\n",
    "\n",
    "% 3.构建GARCH(1,1)模型\n",
    "options=optimset('fminunc');\n",
    " \n",
    "options=optimset(options,'TolFun',1e-005); \n",
    " \n",
    "options=optimset(options,'TolX',1e-005); \n",
    " \n",
    "options=optimset(options,'Display','off'); \n",
    " \n",
    "options=optimset(options,'Diagnostics','off'); \n",
    " \n",
    "options=optimset(options,'LargeScale','off');\n",
    " \n",
    "options=optimset(options,'MaxFunEvals',2000);\n",
    " \n",
    "[garch11p,garch11LL,garch11ht,garch11vcvrobust]=tarch(epsilon,1,0,1,'SKEWT',[],[],options);\n",
    "[garch11text,garch11AIC,garch11BIC]=tarch_display(garch11p,garch11LL,garch11vcvrobust,epsilon,1,2,1);\n",
    "\n",
    "% 4.检验残差分布选择是否合理(可以利用AIC值、QQ图、KS检验、标准残差做ARCH检验)\n",
    "% 4.1 KS检验\n",
    "ehat = epsilon./sqrt(garch11ht);   %标准残差\n",
    "u = skewtcdf(ehat,garch11p(4,1),garch11p(5,1));     %概率积分变换\n",
    "v = unifrnd(0,1,T,1);\n",
    "[H, pValue, KSstatistic] = kstest2(u,v);\n",
    "\n",
    "% 4.2 QQ图\n",
    "fig=figure;\n",
    "set(fig,'Position',[100 100 550 500],'Color',[1 1 1])\n",
    "y = unifinv((1:T)'/(T+1),0,1);\n",
    "LB = 0;\n",
    "UB=1;\n",
    "h=plot([LB UB],[LB UB],sort(u),y);\n",
    "set(h(1),'LineStyle','--','Color',[1 0 0],'LineWidth',1)\n",
    "set(h(2),'LineStyle','none','Marker','o','MarkerSize',1,'Color',[0 0 1])\n",
    "axis tight\n",
    "set(gca,'FontSize',16)\n",
    "a = 'WTI';\n",
    "title(['' a '原油现货收益率Q-Q图'],'FontSize',16)\n",
    "xlabel('U(0，1)')\n",
    "ylabel('残差概率值');\n",
    "\n",
    "% 4.3 标准残差做ARCH检验,p值高说明无法拒绝原假设(不存在条件异方差)\n",
    "[h,p,stat,cValue] = archtest(ehat,'lags',10);\n",
    "if p<=0.01\n",
    "    arch{1,1} = ['' num2str(stat,'%3.3f') '***'];\n",
    "    elseif p<=0.05\n",
    "        arch{1,1} = ['' num2str(stat,'%3.3f') '**'];\n",
    "    elseif p<=0.1\n",
    "        arch{1,1} = ['' num2str(stat,'%3.3f') '*'];\n",
    "    else arch{1,1} = ['' num2str(stat,'%3.3f') ''];\n",
    "end\n",
    "```"
   ]
  }
 ],
 "metadata": {
  "kernelspec": {
   "display_name": "Python 3",
   "language": "python",
   "name": "python3"
  },
  "language_info": {
   "codemirror_mode": {
    "name": "ipython",
    "version": 3
   },
   "file_extension": ".py",
   "mimetype": "text/x-python",
   "name": "python",
   "nbconvert_exporter": "python",
   "pygments_lexer": "ipython3",
   "version": "3.7.6"
  }
 },
 "nbformat": 4,
 "nbformat_minor": 4
}
