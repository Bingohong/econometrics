{
 "cells": [
  {
   "cell_type": "markdown",
   "metadata": {},
   "source": [
    "# 自回归模型"
   ]
  },
  {
   "cell_type": "markdown",
   "metadata": {},
   "source": [
    "## 原理讲解"
   ]
  },
  {
   "cell_type": "markdown",
   "metadata": {},
   "source": [
    "## matlab实现"
   ]
  },
  {
   "cell_type": "markdown",
   "metadata": {},
   "source": [
    "```matlab\n",
    "function [ARy,ARx] = ARxx(X,P)\n",
    "\n",
    "% 获取自回归的估计向量\n",
    "%  X   - 输入数据，列向量\n",
    "%  P   - AR 阶数,标量\n",
    "\n",
    "N = length(X);\n",
    "ARx = zeros(N-P,P+1);\n",
    "ARx(:,1) = ones(N-P,1);   %常数项\n",
    "for m = 1:P\n",
    "    ARx(:,m+1) = X(P-m+1:N-m,1);  %P-m+1 = N-m-(N-P)+1\n",
    "end\n",
    "ARy = X(P+1:N,1);\n",
    "\n",
    "% % 1.载入数据\n",
    "% data = xlsread('C:\\Users\\Administrator\\Desktop\\hourse.xlsx');\n",
    "% f1 = data(:,2); f2 = data(:,3); e = data(:,6);\n",
    "% \n",
    "% % 2.估计自回归模型f1 = c + f1(-1) + f1(-2)\n",
    "% [ARy,ARx] = ARxx(f1,2);\n",
    "% beta = regress(ARy,ARx);\n",
    "% \n",
    "% % 3.计算各滞后阶AIC值,选取最优滞后阶数(最大阶数为6)\n",
    "% T = length(f1);\n",
    "% AR_AIC = zeros(6,1);\n",
    "% for p = 1:6\n",
    "%     [ARy,ARx] = ARxx(f1,p);\n",
    "%     beta = regress(ARy,ARx);\n",
    "%     y_hat = ARx*beta;\n",
    "%     resid = ARy - y_hat;\n",
    "%     AR_AIC(p) = log(resid'*resid/T)+2*(p+1)/T;\n",
    "% end\n",
    "% \n",
    "% % 4.找到最小的AIC值所对应的阶数\n",
    "% Best_p = find(AR_AIC == min(AR_AIC));\n",
    "% [ARy,ARx] = ARxx(f1,Best_p);\n",
    "% beta = regress(ARy,ARx);\n",
    "```"
   ]
  }
 ],
 "metadata": {
  "kernelspec": {
   "display_name": "Python 3",
   "language": "python",
   "name": "python3"
  },
  "language_info": {
   "codemirror_mode": {
    "name": "ipython",
    "version": 3
   },
   "file_extension": ".py",
   "mimetype": "text/x-python",
   "name": "python",
   "nbconvert_exporter": "python",
   "pygments_lexer": "ipython3",
   "version": "3.7.6"
  }
 },
 "nbformat": 4,
 "nbformat_minor": 4
}
