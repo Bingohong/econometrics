{
 "cells": [
  {
   "cell_type": "markdown",
   "metadata": {},
   "source": [
    "# CCR 模型"
   ]
  },
  {
   "cell_type": "markdown",
   "metadata": {},
   "source": [
    "## DEA 方法简介\n",
    "### 简介\n",
    "数据包络分析方法( DEA， Data Envelopment Analysis )由 Charnes、 Coopor 和 Rhodes 于 1978 年提出，该方法的原理主要是通过保持决策单元(DMU，Decision Making Units)的输入或者输出不变，借助于数学规划和统计数据确定相对有效的生产前沿面，将各个决策单元投影到 DEA 的生产前沿面上，并通过比较决策单元偏离 DEA 前沿面的程度来评价它们的相对有效性。\n",
    "\n",
    "DEA 方法以相对效率概念为基础，以凸分析和线形规划为工具的一种评价方法，应用数学规划模型计算比较决策单元之间的相对效率，对评价对象做出评价，它能充分考虑对于决策单元本身最优的投入产出方案，因而能够更理想地反映评价对象自身的信息和特点；同时对于评价复杂系统的多投入多产出分析具有独到之处。\n",
    "\n",
    "### DEA 方法的特点\n",
    "* 适用于多输出——多输入的有效性综合评价问题，在处理多输出多输入的有效性评价方面具有绝对优势\n",
    "* DEA 方法并不直接对数据进行综合，因此决策单元的最优效率指标与投入指标值及产出指标值的量纲选取无关，应用 DEA 方法建立模型前无须对数据进行无量纲化处理(当然也可以)\n",
    "* 无须任何权重假设，而以决策单元输入输出的实际数据求得最优权重，排除了很多主观因素，具有很强的客观性\n",
    "* DEA 方法假定每个输入都关联到一个或者多个输出，且输入输出之间确实存在某种联系，但不必确定这种关系的显示表达式\n",
    "\n",
    "### 适用场景\n",
    "用以评价决策单元（DMUs）的效率高低，例如：\n",
    "* 180家热电企业哪一家的生产效率更高？\n",
    "* 我国所有银行中哪些银行的管理水平更先进？\n",
    "* 哪些企业中员工积极性更高？\n",
    "\n",
    "拓展：评价技术进步率、环境效率、预测。"
   ]
  },
  {
   "cell_type": "markdown",
   "metadata": {},
   "source": [
    "## DEA 基本原理和模型\n",
    "### 基本思想\n",
    "x 轴为要素投入，y 轴为产出，寻找生产前沿面\n",
    "\n",
    "如果是单个要素的输入输出，可以很容易看出，直线斜率越倾斜，生产效率越高"
   ]
  },
  {
   "cell_type": "markdown",
   "metadata": {},
   "source": [
    "<div align=center><img src=\"https://gitee.com/lei940324/picture/raw/master/img/2020/0608/133317.png\" width=\"297\" ></div>\n",
    "<div align=center><img src=\"https://gitee.com/lei940324/picture/raw/master/img/2020/0608/133410.png\" width=\"336\" ></div>\n",
    "\n"
   ]
  },
  {
   "cell_type": "markdown",
   "metadata": {},
   "source": [
    "### 数据结构\n",
    "<div align=center><img src=\"https://gitee.com/lei940324/picture/raw/master/img/2020/0608/135345.png\" width=\"666\" ></div>\n",
    "\n",
    "各变量定义如下：\n",
    "* $x_{ij}$ —— 第 j 个决策单元对第 i 种类型输入的投入总量。$x_{ij}>0$ \n",
    "* $y_{rj}$ —— 第 j 个决策单元对第 r 种类型输出的产出总量。$y_{rj}>0$ \n",
    "* $v_i$ —— 对第 i 种类型输入的一种度量，权系数 \n",
    "* $u_r$ —— 对第 r 种类型输出的一种度量，权系数 \n",
    "* i —— 1, 2,..., m\n",
    "* r —— 1, 2,..., s\n",
    "* j —— 1, 2,..., n\n",
    "\n"
   ]
  },
  {
   "cell_type": "markdown",
   "metadata": {},
   "source": [
    "对于每一个决策单元 $DMU_j$ 都有相应的效率评价指数:\n",
    "\n",
    "$$h_{j}=\\frac{u^{T} y_{i}}{v^{T} x_{j}}=\\frac{\\sum_{r=1}^{s} u_{r} y_{r j}}{\\sum_{i=1}^{m n} v_{i} x_{i j}}, j=1,2, \\ldots, n\\tag{1}$$\n",
    "\n",
    "我们总可以适当的取权系数 v 和 u, 使得 $h_j<=1, j=1, 2,..., n$\n",
    "\n",
    "对第 $j_0$ 个决策单元进行效率评价，一般说来，$h_{j_0}$ 越大表明 $DMU_{j_0}$ 能够用相对较少的输入而取得相对较多的输出。\n",
    "\n",
    "这样我们如果对 $DMU_{j_0}$ 进行评价，看 $DMU_{j_0}$ 在这 n 个 DMU 中相对来说是不是最优的，我们可以考察当尽可能的变化权重时，$h_{j_0}$ 的最大值究竟是多少。"
   ]
  },
  {
   "cell_type": "markdown",
   "metadata": {},
   "source": [
    "如以第 $j_0$ 个决策单元的效率指数为目标，以所有决策单元的效率指数为约束，就构造了如下的 CCR ($C^2R$)模型：\n",
    "\n",
    "$$\n",
    "\\left\\{ \\begin{array}{c}\n",
    "\t\\max h_{j_o}=\\frac{\\sum_{r=1}^s{u_r}y_{rj_o}}{\\sum_{i=1}^m{v_i}x_{ij_o}}\\\\\n",
    "\t\\,\\,\\text{s}.\\text{t}. \\frac{\\sum_{r=1}^s{u_r}y_{rj}}{\\sum_{i=1}^m{v_i}x_{ij}}\\le 1,j=1,2,...n\\\\\n",
    "\tu\\ge 0,v\\ge 0\\\\\n",
    "\\end{array} \\right. \\tag{2}\n",
    "$$\n",
    "\n",
    "上述规划模型是一个分式规划，使用 Charnes-Cooper 变化，令：$t=\\frac{1}{v^{T} x_{0}}, w=t v, \\mu=t u \\quad$，由 $t=\\frac{1}{v^{t} x_{0}} \\Rightarrow w^{t} x_{0}=1$\n",
    "\n",
    "可变成如下的线性规划模型(3):\n",
    "\n",
    "$$\n",
    "\\begin{cases}\n",
    "\t\\max h_{j_0}=\\mu ^Ty_o\\\\\n",
    "\t\\text{s}.\\text{t}.\\text{w}^Tx_j-\\mu ^Ty_j\\ge 0,j=1,2,...n\\\\\n",
    "\tw^Tx_0=1\\\\\n",
    "\tw\\ge 0,\\mu \\ge 0\\\\\n",
    "\\end{cases}\\tag{3}\n",
    "$$\n",
    "\n",
    "可以发现：\n",
    "* 利用线性规划的最优解来定义决策单元 $j_0$ 的有效性，从模型可以看出，该决策单元 $j_0$ 的有效性是相对其他所有决策单元而言的。\n",
    "* 对于 CCR 模型可以用规划 (3) 表达，而线性规划一个重要的有效理论是对偶理论，通过建立对偶模型更容易从理论和经济意义上作深入分析"
   ]
  },
  {
   "cell_type": "markdown",
   "metadata": {},
   "source": [
    "规划 (3) 的对偶规划如下:\n",
    "\n",
    "$$\n",
    "\\begin{cases}\n",
    "\t\\min \\theta\\\\\n",
    "\ts.t. \\sum_{j=1}^n{\\lambda _j}x_j\\le \\theta x_0\\\\\n",
    "\t\\sum_{j=1}^n{\\lambda _j}y_j\\ge y_0\\\\\n",
    "\t\\lambda _j\\ge 0, j=1,2,...n\\\\\n",
    "\t\\theta \\,\\,\\text{无约束}\\\\\n",
    "\\end{cases}\\tag{4}\n",
    "$$\n",
    "\n"
   ]
  },
  {
   "cell_type": "markdown",
   "metadata": {},
   "source": [
    "## matlab 程序\n",
    "### linprog 函数介绍\n",
    "参考百度百科：https://baike.baidu.com/item/linprog/900882?fr=aladdin\n",
    "\n",
    "### CCR 模型\n",
    "估计的模型（3）\n",
    "```matlab\n",
    "clc; clear;\n",
    "\n",
    "% 1.添入数据\n",
    "x = [ ]; y = [ ];  % 其中 x 表示输入变量，y 表示输出变量\n",
    "\n",
    "% 2.确定参数\n",
    "n = size(x,1);   % 输入变量 x 的行数\n",
    "m = size(x,2);   % 输入变量 x 的列数\n",
    "s = size(y,2);   % 输出变量 y 的列数\n",
    "\n",
    "% 3.线性规划\n",
    "A=[-x y];        % 约束矩阵\n",
    "b=zeros(n,1);    % 约束增广矩阵\n",
    "LB=zeros(m+s,1); % 带估计参数取值范围，均 ≥0\n",
    "UB=[];\n",
    "for i=1:n;\n",
    "    f=[zeros(1,m) -y(i,:)];\n",
    "    Aeq=[x(i,:) zeros(1,s)];    beq=1;\n",
    "    w(:,i)=linprog(f,A,b,Aeq,beq,LB,UB);\n",
    "    E(i,i)=y(i,:)*w(m+1:m+s,i);\n",
    "    theta(i)=E(i,i);\n",
    "end\n",
    "w        %权重向量\n",
    "theta’  %输出相对效率值\n",
    "```\n",
    "\n",
    "### BCC 模型\n",
    "```matlab\n",
    "clc; clear;\n",
    "\n",
    "% 1.添入数据\n",
    "x = [ ]; y = [ ];  % 其中 x 表示输入变量，y 表示输出变量\n",
    "\n",
    "% 2.确定参数\n",
    "n = size(x,1);   % 输入变量 x 的行数\n",
    "m = size(x,2);   % 输入变量 x 的列数\n",
    "s = size(y,2);   % 输出变量 y 的列数\n",
    "\n",
    "% 3.线性规划\n",
    "A = [-x, y, ones(n,1)];           % 约束矩阵\n",
    "b = zeros(n,1);                   % 约束增广矩阵\n",
    "LB = zeros(m+s+1,1);  UB = [];    % 带估计参数取值范围，均 ≥0\n",
    "for i=1:n\n",
    "    f = [zeros(1,m), -y(i,:), 1]; % 目标函数 min\n",
    "    Aeq = [x(i,:), zeros(1,s+1)];    \n",
    "    beq = 1;                      % 约束等式\n",
    "    w(:,i) = linprog(f,A,b,Aeq,beq,LB,UB);\n",
    "    E(i,i) = y(i,:)*w(m+1:m+s,i);\n",
    "    theta(i) = E(i,i);\n",
    "end\n",
    "w        % 权重向量\n",
    "theta    % 输出相对效率值\n",
    "\n",
    "```"
   ]
  }
 ],
 "metadata": {
  "kernelspec": {
   "display_name": "Python 3",
   "language": "python",
   "name": "python3"
  },
  "language_info": {
   "codemirror_mode": {
    "name": "ipython",
    "version": 3
   },
   "file_extension": ".py",
   "mimetype": "text/x-python",
   "name": "python",
   "nbconvert_exporter": "python",
   "pygments_lexer": "ipython3",
   "version": "3.7.6"
  }
 },
 "nbformat": 4,
 "nbformat_minor": 4
}
