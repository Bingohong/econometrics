{
 "cells": [
  {
   "cell_type": "markdown",
   "metadata": {},
   "source": [
    "# CCR 模型"
   ]
  },
  {
   "cell_type": "markdown",
   "metadata": {},
   "source": [
    "## DEA 方法简介\n",
    "### 简介\n",
    "数据包络分析方法( DEA， Data Envelopment Analysis )由 Charnes、 Coopor 和 Rhodes 于 1978 年提出，该方法的原理主要是通过保持决策单元(DMU，Decision Making Units)的输入或者输入不变，借助于数学规划和统计数据确定相对有效的生产前沿面，将各个决策单元投影到 DEA 的生产前沿面上，并通过比较决策单元偏离 DEA 前沿面的程度来评价它们的相对有效性。\n",
    "\n",
    "DEA 方法以相对效率概念为基础，以凸分析和线形规划为工具的一种评价方法，应用数学规划模型计算比较决策单元之间的相对效率，对评价对象做出评价，它能充分考虑对于决策单元本身最优的投入产出方案，因而能够更理想地反映评价对象自身的信息和特点；同时对于评价复杂系统的多投入多产出分析具有独到之处。\n",
    "\n",
    "### DEA 方法的特点\n",
    "* 适用于多输出-多输入的有效性综合评价问题，在处理多输出多输入的有效性评价方面具有绝对优势\n",
    "* DEA 方法并不直接对数据进行综合，因此决策单元的最优效率指标与投入指标值及产出指标值的量纲选取无关，应用 DEA 方法建立模型前无须对数据进行无量纲化处理(当然也可以)\n",
    "* 无须任何权重假设，而以决策单元输入输出的实际数据求得最优权重，排除了很多主观因素，具有很强的客观性\n",
    "* DEA 方法假定每个输入都关联到一个或者多个输出，且输入输出之间确实存在某种联系，但不必确定这种关系的显示表达式"
   ]
  },
  {
   "cell_type": "markdown",
   "metadata": {},
   "source": [
    "## DEA 基本原理和模型"
   ]
  },
  {
   "cell_type": "code",
   "execution_count": null,
   "metadata": {},
   "outputs": [],
   "source": []
  }
 ],
 "metadata": {
  "kernelspec": {
   "display_name": "Python 3",
   "language": "python",
   "name": "python3"
  },
  "language_info": {
   "codemirror_mode": {
    "name": "ipython",
    "version": 3
   },
   "file_extension": ".py",
   "mimetype": "text/x-python",
   "name": "python",
   "nbconvert_exporter": "python",
   "pygments_lexer": "ipython3",
   "version": "3.7.6"
  }
 },
 "nbformat": 4,
 "nbformat_minor": 4
}
