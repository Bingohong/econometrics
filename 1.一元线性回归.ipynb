{
 "cells": [
  {
   "cell_type": "markdown",
   "metadata": {},
   "source": [
    "# 一元线性回归"
   ]
  },
  {
   "cell_type": "markdown",
   "metadata": {},
   "source": [
    "## 导入样本数据"
   ]
  },
  {
   "cell_type": "code",
   "execution_count": 4,
   "metadata": {},
   "outputs": [
    {
     "data": {
      "text/html": [
       "<div>\n",
       "<style scoped>\n",
       "    .dataframe tbody tr th:only-of-type {\n",
       "        vertical-align: middle;\n",
       "    }\n",
       "\n",
       "    .dataframe tbody tr th {\n",
       "        vertical-align: top;\n",
       "    }\n",
       "\n",
       "    .dataframe thead th {\n",
       "        text-align: right;\n",
       "    }\n",
       "</style>\n",
       "<table border=\"1\" class=\"dataframe\">\n",
       "  <thead>\n",
       "    <tr style=\"text-align: right;\">\n",
       "      <th></th>\n",
       "      <th>日期</th>\n",
       "      <th>hs300</th>\n",
       "      <th>sz</th>\n",
       "    </tr>\n",
       "  </thead>\n",
       "  <tbody>\n",
       "    <tr>\n",
       "      <th>0</th>\n",
       "      <td>2019-11-22</td>\n",
       "      <td>3849.9948</td>\n",
       "      <td>2885.2884</td>\n",
       "    </tr>\n",
       "    <tr>\n",
       "      <th>1</th>\n",
       "      <td>2019-11-21</td>\n",
       "      <td>3889.5980</td>\n",
       "      <td>2903.6379</td>\n",
       "    </tr>\n",
       "    <tr>\n",
       "      <th>2</th>\n",
       "      <td>2019-11-20</td>\n",
       "      <td>3907.8641</td>\n",
       "      <td>2911.0534</td>\n",
       "    </tr>\n",
       "    <tr>\n",
       "      <th>3</th>\n",
       "      <td>2019-11-19</td>\n",
       "      <td>3947.0392</td>\n",
       "      <td>2933.9908</td>\n",
       "    </tr>\n",
       "    <tr>\n",
       "      <th>4</th>\n",
       "      <td>2019-11-18</td>\n",
       "      <td>3907.9291</td>\n",
       "      <td>2909.2002</td>\n",
       "    </tr>\n",
       "    <tr>\n",
       "      <th>...</th>\n",
       "      <td>...</td>\n",
       "      <td>...</td>\n",
       "      <td>...</td>\n",
       "    </tr>\n",
       "    <tr>\n",
       "      <th>455</th>\n",
       "      <td>2018-01-08</td>\n",
       "      <td>4160.1595</td>\n",
       "      <td>3409.4795</td>\n",
       "    </tr>\n",
       "    <tr>\n",
       "      <th>456</th>\n",
       "      <td>2018-01-05</td>\n",
       "      <td>4138.7505</td>\n",
       "      <td>3391.7501</td>\n",
       "    </tr>\n",
       "    <tr>\n",
       "      <th>457</th>\n",
       "      <td>2018-01-04</td>\n",
       "      <td>4128.8119</td>\n",
       "      <td>3385.7102</td>\n",
       "    </tr>\n",
       "    <tr>\n",
       "      <th>458</th>\n",
       "      <td>2018-01-03</td>\n",
       "      <td>4111.3925</td>\n",
       "      <td>3369.1084</td>\n",
       "    </tr>\n",
       "    <tr>\n",
       "      <th>459</th>\n",
       "      <td>2018-01-02</td>\n",
       "      <td>4087.4012</td>\n",
       "      <td>3348.3259</td>\n",
       "    </tr>\n",
       "  </tbody>\n",
       "</table>\n",
       "<p>460 rows × 3 columns</p>\n",
       "</div>"
      ],
      "text/plain": [
       "            日期      hs300         sz\n",
       "0   2019-11-22  3849.9948  2885.2884\n",
       "1   2019-11-21  3889.5980  2903.6379\n",
       "2   2019-11-20  3907.8641  2911.0534\n",
       "3   2019-11-19  3947.0392  2933.9908\n",
       "4   2019-11-18  3907.9291  2909.2002\n",
       "..         ...        ...        ...\n",
       "455 2018-01-08  4160.1595  3409.4795\n",
       "456 2018-01-05  4138.7505  3391.7501\n",
       "457 2018-01-04  4128.8119  3385.7102\n",
       "458 2018-01-03  4111.3925  3369.1084\n",
       "459 2018-01-02  4087.4012  3348.3259\n",
       "\n",
       "[460 rows x 3 columns]"
      ]
     },
     "execution_count": 4,
     "metadata": {},
     "output_type": "execute_result"
    }
   ],
   "source": [
    "import pandas as pd\n",
    "\n",
    "df = pd.read_excel('./数据/上证指数与沪深300.xlsx')\n",
    "df"
   ]
  },
  {
   "cell_type": "markdown",
   "metadata": {},
   "source": [
    "## 原理讲解"
   ]
  },
  {
   "cell_type": "markdown",
   "metadata": {},
   "source": [
    "### 古典线性回归模型的假定"
   ]
  },
  {
   "cell_type": "markdown",
   "metadata": {},
   "source": [
    "#### 假定1：线性假定"
   ]
  },
  {
   "cell_type": "markdown",
   "metadata": {},
   "source": [
    "总体模型为:$y_i=\\beta_1x_{i1}+\\beta_2x_{i2}+\\cdots+\\beta_Kx_{iK}+\\varepsilon_i (i=1,\\cdots,n)\\tag{1.1}$            \n",
    "\n",
    "其中 $n$ 为样本容量，解释变量 $x_{ik}$ 的第一个下标表示第$i$个“观测值”，而第二个下标则表示第$k$个解释变量$(k=1,\\cdots,K)$，共有$K$个解释变量。如果有常数项，则通常令第一个解释变量为单位向量，即$x_{i1}=1$\n",
    "\n",
    "为了更简洁地表达，下面引入矩阵符号。把方程（1.1）的所有解释变量和参数都写成向量，记第$i$个观测数据为$x_i\\equiv\\left(x_{i 1} ,x_{i_{2}} \\cdots x_{i K}\\right)^{\\prime}$，$\\beta \\equiv\\left(\\beta_{1}, \\beta_{2} \\cdots \\beta_{K}\\right)^{\\prime}$，则方程（1.1）为：\n",
    "\n",
    "$y_{i}=x_{i}^{\\prime} \\boldsymbol{\\beta}+\\varepsilon_{i} \\quad(i=1, \\cdots, n)\\tag{1.2}$"
   ]
  },
  {
   "cell_type": "markdown",
   "metadata": {},
   "source": [
    "#### 假定2：严格外生性"
   ]
  },
  {
   "cell_type": "markdown",
   "metadata": {},
   "source": [
    "$\\mathrm{E}\\left(\\varepsilon_{i} | X\\right)=\\mathrm{E}\\left(\\boldsymbol{\\varepsilon}_{i} | \\boldsymbol{x}_{1}, \\cdots, \\boldsymbol{x}_{n}\\right)=0 \\quad(i=1, \\cdots, n)\\tag{1.3}$"
   ]
  },
  {
   "cell_type": "markdown",
   "metadata": {},
   "source": [
    "#### 假定3：不存在“严格多重共线性”（strict multicolinearity），即数据矩阵 $X$ 满列秩"
   ]
  },
  {
   "cell_type": "markdown",
   "metadata": {},
   "source": [
    "#### 假定4：球型扰动项（spherical disturbance），即扰动项满足“同方差”、“无自相关”的性质"
   ]
  },
  {
   "cell_type": "markdown",
   "metadata": {},
   "source": [
    "$\\operatorname{Var}(\\boldsymbol{\\varepsilon} | X)=\\mathrm{E}\\left(\\boldsymbol{\\varepsilon} \\boldsymbol{\\varepsilon}^{\\prime} | X\\right)=\\sigma^{2} \\boldsymbol{I}_{n}=\\left(\\begin{array}{ccc}\\sigma^{2} & & 0 \\\\ & \\ddots & \\\\ 0 & & \\sigma^{2}\\end{array}\\right)\\tag{1.4}$"
   ]
  },
  {
   "cell_type": "markdown",
   "metadata": {},
   "source": [
    "### 最小二乘法\n",
    "假定待估计方程为：$hs300 = c+sz$。其中 c 为常数项"
   ]
  },
  {
   "cell_type": "markdown",
   "metadata": {},
   "source": [
    "#### OLS估计量b"
   ]
  },
  {
   "cell_type": "markdown",
   "metadata": {},
   "source": [
    "$$b \\equiv\\left(X^{\\prime} X\\right)^{-1} X^{\\prime} y\\tag{1.6}$$"
   ]
  },
  {
   "cell_type": "markdown",
   "metadata": {},
   "source": [
    "#### 残差"
   ]
  },
  {
   "cell_type": "markdown",
   "metadata": {},
   "source": [
    "$$e \\equiv\\left(\\begin{array}{llll}\n",
    "e_{1} & e_{2} & \\cdots & e_{n}\n",
    "\\end{array}\\right)=y-X \\widetilde{\\boldsymbol{\\beta}}\\tag{1.5}$$"
   ]
  },
  {
   "cell_type": "code",
   "execution_count": null,
   "metadata": {},
   "outputs": [],
   "source": []
  }
 ],
 "metadata": {
  "kernelspec": {
   "display_name": "Python 3",
   "language": "python",
   "name": "python3"
  },
  "language_info": {
   "codemirror_mode": {
    "name": "ipython",
    "version": 3
   },
   "file_extension": ".py",
   "mimetype": "text/x-python",
   "name": "python",
   "nbconvert_exporter": "python",
   "pygments_lexer": "ipython3",
   "version": "3.7.6"
  }
 },
 "nbformat": 4,
 "nbformat_minor": 4
}
